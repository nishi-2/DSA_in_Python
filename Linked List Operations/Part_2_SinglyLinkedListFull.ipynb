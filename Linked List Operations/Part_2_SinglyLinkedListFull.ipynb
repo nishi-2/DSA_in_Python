{
 "cells": [
  {
   "cell_type": "markdown",
   "id": "4942744d-9c0d-4e59-b75c-f0fdf07ac8b5",
   "metadata": {},
   "source": [
    "## **What is a Linked List?**\n",
    "\n",
    "A Linked List is a linear data structure where elements (nodes) are stored in non-contiguous memory locations. Each node contains:\n",
    "* **Data** – the value stored.\n",
    "* **Pointer** – reference to the next node in the sequence.\n",
    "\n",
    "Unlike arrays, linked lists do not require predefined size and are dynamically allocated.\n",
    "\n",
    "**Why Linked List?**\n",
    "* Benefits:\n",
    "    * Dynamic size: Grows or shrinks at runtime without reallocation.\n",
    "    * Efficient insertions/deletions: Constant time insertion/deletion at beginning or middle (unlike arrays).\n",
    "    * No memory wastage: Uses memory only when needed.\n",
    "* Drawbacks:\n",
    "    * No random access: Can’t access an element by index directly.\n",
    "    * More memory: Each node stores an extra pointer.\n",
    "\n",
    "**Types of Linked Lists**\n",
    "* **Singly Linked List** – Node points to the next node only.\n",
    "* **Doubly Linked List** – Node points to both next and previous nodes.\n",
    "* **Circular Linked List** – Last node points back to the first.\n",
    "* **Doubly Circular Linked List** – Like a doubly linked list but circular."
   ]
  },
  {
   "cell_type": "markdown",
   "id": "7ae4c1b4-feb7-495c-9c14-474a6b295d23",
   "metadata": {},
   "source": [
    "## **Content**"
   ]
  },
  {
   "cell_type": "markdown",
   "id": "e532a3c4-b4d8-40c3-9df1-417ca3abcb17",
   "metadata": {},
   "source": [
    "<b>\n",
    "    \n",
    "1. Introduction to Singly Linked List\n",
    "2. Insert at beginning\n",
    "3. Insert at beginning and print list\n",
    "4. Insert at end\n",
    "5. Insert at specific position and get the length of list\n",
    "6. Insert after a specific value\n",
    "7. Insert before a specific value\n",
    "8. Deletion from beginning of list\n",
    "9. Deletion from end of list\n",
    "10. Delete by value in list\n",
    "11. Delete by position in list\n",
    "12. Search\n",
    "13. Reversal\n",
    "14. Middle element access\n",
    "15. Loop Detection\n",
    "16. Swap values\n",
    "17. Get Nth Last Node\n",
    "18. Space and Time Complexity Table\n",
    "\n",
    "</b>"
   ]
  },
  {
   "cell_type": "markdown",
   "id": "1228eb0f-78d5-4ac9-9a7c-02a973a6798d",
   "metadata": {},
   "source": [
    "## **Singly Linked List**"
   ]
  },
  {
   "cell_type": "markdown",
   "id": "25ade792-f836-4d4d-b145-b81af07c8b0c",
   "metadata": {},
   "source": [
    "### **Introduction**"
   ]
  },
  {
   "cell_type": "markdown",
   "id": "a46dbf86-143b-4e61-a14a-b084ae525e75",
   "metadata": {},
   "source": [
    "A Singly Linked List (SLL) is a linear data structure composed of nodes, where each node contains - Data, where the actual value stored and Pointer/Link, which is a reference to the next node in the sequence. <br/>\n",
    "The list starts with a special node called the head. The last node points to null (None), indicating the end of the list."
   ]
  },
  {
   "cell_type": "markdown",
   "id": "417e13cb-4b5e-4ede-abfd-b0f110d461ba",
   "metadata": {},
   "source": [
    "**Key Characteristics**\n",
    "* Sequential Access: Nodes must be accessed in order from the head.\n",
    "* Dynamic Size: Unlike arrays, no need to declare the size in advance.\n",
    "* Memory Efficient (compared to arrays in some cases): Allocates memory as needed.\n",
    "* Insert/Delete Friendly: Especially efficient at beginning/middle compared to arrays."
   ]
  },
  {
   "cell_type": "markdown",
   "id": "0af3ad7b-33da-4a0a-add9-36a33df0182e",
   "metadata": {},
   "source": [
    "There are multiple operations possible with Singly Linked List, and we will go through all of it. Let's get started by creating Node at first."
   ]
  },
  {
   "cell_type": "code",
   "execution_count": 1,
   "id": "240fae94-41c3-4843-8dd8-6b91f541277d",
   "metadata": {},
   "outputs": [],
   "source": [
    "class Node:\n",
    "    def __init__(self, value, link = None):\n",
    "        self._data = value\n",
    "        self._next = link\n",
    "\n",
    "    def get_node_value(self):\n",
    "        return self._data\n",
    "\n",
    "    def get_next_node(self):\n",
    "        return self._next\n",
    "\n",
    "    def set_next_node(self, link):\n",
    "        self._next = link"
   ]
  },
  {
   "cell_type": "code",
   "execution_count": 2,
   "id": "b88100d8-dc2e-4247-b436-2a9a51d4a049",
   "metadata": {},
   "outputs": [],
   "source": [
    "class singlyLinkedList:\n",
    "    def __init__(self, value):\n",
    "        self.head = Node(value)"
   ]
  },
  {
   "cell_type": "code",
   "execution_count": 3,
   "id": "84693154-d8e8-4f83-a2d0-ccd2c12214be",
   "metadata": {
    "scrolled": true
   },
   "outputs": [],
   "source": [
    "obj1 = singlyLinkedList(10)"
   ]
  },
  {
   "cell_type": "code",
   "execution_count": 4,
   "id": "dc7b216e-4592-458e-8829-5fdc0bd188c7",
   "metadata": {},
   "outputs": [
    {
     "data": {
      "text/plain": [
       "(<__main__.Node at 0x242b0920be0>, 10, None)"
      ]
     },
     "execution_count": 4,
     "metadata": {},
     "output_type": "execute_result"
    }
   ],
   "source": [
    "obj1.head, obj1.head.get_node_value(), obj1.head.get_next_node()"
   ]
  },
  {
   "cell_type": "code",
   "execution_count": 5,
   "id": "2e4e177e-4b83-48d7-a392-f6f553157f87",
   "metadata": {},
   "outputs": [],
   "source": [
    "obj1.head.next = Node(20)"
   ]
  },
  {
   "cell_type": "code",
   "execution_count": 6,
   "id": "12bfec48-4d91-40dd-a4b7-16b5c796b8e4",
   "metadata": {},
   "outputs": [
    {
     "data": {
      "text/plain": [
       "(<__main__.Node at 0x242b0920be0>, 10, None, 20, None)"
      ]
     },
     "execution_count": 6,
     "metadata": {},
     "output_type": "execute_result"
    }
   ],
   "source": [
    "obj1.head, obj1.head.get_node_value(), obj1.head.get_next_node(), obj1.head.next.get_node_value(), obj1.head.next.get_next_node()"
   ]
  },
  {
   "cell_type": "markdown",
   "id": "4cd4b7dc-ae92-43e3-a6eb-5fe00fba736d",
   "metadata": {},
   "source": [
    "### **Insert at beginning**"
   ]
  },
  {
   "cell_type": "markdown",
   "id": "92427b78-6ef1-4fc2-b57d-e167e284ae0d",
   "metadata": {},
   "source": [
    "Operation: Add a node at the head.\n",
    "* Time Complexity: O(1)\n",
    "* Space Complexity: O(1)\n",
    "  \n",
    "As no traversal is needed"
   ]
  },
  {
   "cell_type": "code",
   "execution_count": 7,
   "id": "0acb7080-e083-4ae5-9a00-6815baed37f2",
   "metadata": {},
   "outputs": [],
   "source": [
    "class singlyLinkedList:\n",
    "    def __init__(self, value=None):\n",
    "        self.head = Node(value)\n",
    "\n",
    "    def insert_at_beginning(self, value):\n",
    "        new_node = Node(value)\n",
    "        # If list is empty, set new node as head\n",
    "        if self.head.data is None:\n",
    "            self.head = new_node\n",
    "            return\n",
    "        new_node.next = self.head  # Link new node to current head\n",
    "        self.head = new_node  # Set new node as head"
   ]
  },
  {
   "cell_type": "code",
   "execution_count": 8,
   "id": "964eb0fe-e712-4ea1-bdb9-d3b4f007a853",
   "metadata": {},
   "outputs": [
    {
     "data": {
      "text/plain": [
       "(<__main__.Node at 0x242b0923670>, 10)"
      ]
     },
     "execution_count": 8,
     "metadata": {},
     "output_type": "execute_result"
    }
   ],
   "source": [
    "list_one = singlyLinkedList(10)\n",
    "\n",
    "list_one.head, list_one.head.get_node_value()"
   ]
  },
  {
   "cell_type": "code",
   "execution_count": 9,
   "id": "30540eee-f237-439f-8e2c-faab9249c183",
   "metadata": {},
   "outputs": [
    {
     "name": "stdout",
     "output_type": "stream",
     "text": [
      "None\n"
     ]
    }
   ],
   "source": [
    "print(list_one.head.get_next_node())"
   ]
  },
  {
   "cell_type": "markdown",
   "id": "cd3373f9-47f3-408f-b570-c8038a13ba71",
   "metadata": {},
   "source": [
    "### **Insert at beginning and Printing the list**"
   ]
  },
  {
   "cell_type": "markdown",
   "id": "12b56121-188f-441c-a4c5-977f051a52c4",
   "metadata": {},
   "source": [
    "Printing the List is like Traversal where you visit every node in the list.\n",
    "* Time Complexity: O(n)\n",
    "* Space Complexity: O(1)"
   ]
  },
  {
   "cell_type": "code",
   "execution_count": 10,
   "id": "d83d91de-efa0-4098-99ff-b936e5d5bfd6",
   "metadata": {},
   "outputs": [],
   "source": [
    "class Node:\n",
    "    def __init__(self, value, link = None):\n",
    "        self.data = value\n",
    "        self.next = link\n",
    "\n",
    "\n",
    "class singlyLinkedList:\n",
    "    def __init__(self, value=None):\n",
    "        self.head = Node(value)\n",
    "\n",
    "    \n",
    "    def insert_at_beginning(self, value):\n",
    "        new_node = Node(value)\n",
    "        if self.head.data is None:\n",
    "            self.head = new_node\n",
    "            return\n",
    "        new_node.next = self.head\n",
    "        self.head = new_node\n",
    "\n",
    "    \n",
    "    def print_list(self):\n",
    "        current_node = self.head\n",
    "        # Traverse and print each node's data\n",
    "        while current_node is not None:\n",
    "            print(current_node.data, end=' ')\n",
    "            current_node = current_node.next"
   ]
  },
  {
   "cell_type": "code",
   "execution_count": 11,
   "id": "b7c5046a-7796-4a40-8d0f-c421f30f760e",
   "metadata": {},
   "outputs": [
    {
     "name": "stdout",
     "output_type": "stream",
     "text": [
      "7 6 5 4 3 2 "
     ]
    }
   ],
   "source": [
    "list_one = singlyLinkedList()\n",
    "for i in range(2, 8):\n",
    "    list_one.insert_at_beginning(i)\n",
    "list_one.print_list()"
   ]
  },
  {
   "cell_type": "markdown",
   "id": "4f5f91cc-6721-45be-9100-7920b51ac7ae",
   "metadata": {},
   "source": [
    "### **Insert at the End**"
   ]
  },
  {
   "cell_type": "markdown",
   "id": "196aa4ea-8e1d-4769-b110-9b9c4bb987fe",
   "metadata": {},
   "source": [
    "Operation: Add a node at the tail.\n",
    "* Time Complexity: O(n)\n",
    "* Space Complexity: O(1)\n",
    "  \n",
    "Traversal to the end is required."
   ]
  },
  {
   "cell_type": "code",
   "execution_count": 12,
   "id": "815d5a36-7c72-406f-bd93-698409ff2c4f",
   "metadata": {},
   "outputs": [
    {
     "name": "stdout",
     "output_type": "stream",
     "text": [
      "2 3 4 5 6 7 "
     ]
    }
   ],
   "source": [
    "class Node:\n",
    "    def __init__(self, value, link = None):\n",
    "        self.data = value\n",
    "        self.next = link\n",
    "\n",
    "\n",
    "class singlyLinkedList:\n",
    "    def __init__(self, value=None):\n",
    "        self.head = Node(value)\n",
    "\n",
    "    def insert_at_end(self, value):\n",
    "        new_node = Node(value)\n",
    "        # If list is empty, assign new node as head\n",
    "        if self.head.data is None:\n",
    "            self.head = new_node\n",
    "            return\n",
    "        current = self.head\n",
    "        # Traverse to the last node\n",
    "        while current.next is not None:\n",
    "            current = current.next\n",
    "        current.next = new_node  # Link last node to new node\n",
    "\n",
    "    def print_list(self):\n",
    "        current_node = self.head\n",
    "        while current_node is not None:\n",
    "            print(current_node.data, end = ' ')\n",
    "            current_node = current_node.next\n",
    "\n",
    "\n",
    "list_one = singlyLinkedList()\n",
    "for i in range(2, 8):\n",
    "    list_one.insert_at_end(i)\n",
    "list_one.print_list()"
   ]
  },
  {
   "cell_type": "markdown",
   "id": "b30292a7-bda6-4e1d-8efe-1e7431bbe5e5",
   "metadata": {},
   "source": [
    "### **Insert at specific position and get the length of the List**"
   ]
  },
  {
   "cell_type": "markdown",
   "id": "ad3bddc3-c069-4a6b-892d-9d72e51fc976",
   "metadata": {},
   "source": [
    "Operation: Insert at a specific index.\n",
    "* Time Complexity: O(n)\n",
    "* Space Complexity: O(1)\n",
    "\n",
    "Traversal is required to find the index."
   ]
  },
  {
   "cell_type": "markdown",
   "id": "cf187262-19b5-4666-bd9e-f06face9ed0f",
   "metadata": {},
   "source": [
    "For length calculation, we need to count the number of nodes.\n",
    "* Time Complexity: O(n)\n",
    "* Space Complexity: O(1)"
   ]
  },
  {
   "cell_type": "code",
   "execution_count": 13,
   "id": "8a97617e-7026-4d64-8acd-5bd85a42badb",
   "metadata": {},
   "outputs": [
    {
     "name": "stdout",
     "output_type": "stream",
     "text": [
      "2 3 4 5 6 7 "
     ]
    }
   ],
   "source": [
    "class Node:\n",
    "    def __init__(self, value, link = None):\n",
    "        self.data = value\n",
    "        self.next = link\n",
    "\n",
    "\n",
    "class singlyLinkedList:\n",
    "    def __init__(self, value=None):\n",
    "        self.head = Node(value)\n",
    "\n",
    "    def insert_at_end(self, value):\n",
    "        new_node = Node(value)\n",
    "        if self.head.data is None:\n",
    "            self.head = new_node\n",
    "            return\n",
    "        current = self.head\n",
    "        while current.next is not None:\n",
    "            current = current.next\n",
    "        current.next = new_node\n",
    "\n",
    "    def length_of_list(self):\n",
    "        current = self.head\n",
    "        counter = 0\n",
    "        # Count nodes one by one\n",
    "        while current is not None:\n",
    "            counter += 1\n",
    "            current = current.next\n",
    "        return counter\n",
    "\n",
    "    def insert_at_specific_position(self, value, position):\n",
    "        new_node = Node(value)\n",
    "        length_of_list = self.length_of_list()\n",
    "\n",
    "        # Check for valid position\n",
    "        if position < 0 or position > length_of_list:\n",
    "            print('Invalid position: ', position)\n",
    "            return\n",
    "\n",
    "        # Insert at beginning\n",
    "        if position == 0:\n",
    "            new_node.next = self.head\n",
    "            self.head = new_node\n",
    "            return\n",
    "\n",
    "        current = self.head\n",
    "        counter = 0\n",
    "        # Traverse to node before target position\n",
    "        while counter < position - 1:\n",
    "            current = current.next\n",
    "            counter += 1\n",
    "\n",
    "        new_node.next = current.next  # Link new node to next\n",
    "        current.next = new_node  # Link previous node to new node\n",
    "\n",
    "\n",
    "    def print_list(self):\n",
    "        current_node = self.head\n",
    "        while current_node is not None:\n",
    "            print(current_node.data, end = ' ')\n",
    "            current_node = current_node.next\n",
    "\n",
    "\n",
    "list_one = singlyLinkedList()\n",
    "for i in range(2, 8):\n",
    "    list_one.insert_at_end(i)\n",
    "list_one.print_list()"
   ]
  },
  {
   "cell_type": "code",
   "execution_count": 14,
   "id": "c1b15d0e-e17b-4c91-87d4-df52ef87f101",
   "metadata": {},
   "outputs": [
    {
     "data": {
      "text/plain": [
       "6"
      ]
     },
     "execution_count": 14,
     "metadata": {},
     "output_type": "execute_result"
    }
   ],
   "source": [
    "list_one.length_of_list()"
   ]
  },
  {
   "cell_type": "code",
   "execution_count": 15,
   "id": "fc5604a7-dcc3-4835-a58c-d7d07f0ea145",
   "metadata": {},
   "outputs": [
    {
     "name": "stdout",
     "output_type": "stream",
     "text": [
      "2 3 4 10 5 6 7 "
     ]
    }
   ],
   "source": [
    "list_one.insert_at_specific_position(10, 3)\n",
    "list_one.print_list()"
   ]
  },
  {
   "cell_type": "code",
   "execution_count": 16,
   "id": "f0889f32-6cec-4d42-8bb0-4010fc2f1a5e",
   "metadata": {},
   "outputs": [
    {
     "name": "stdout",
     "output_type": "stream",
     "text": [
      "Invalid position:  9\n"
     ]
    }
   ],
   "source": [
    "list_one.insert_at_specific_position(10, 9)"
   ]
  },
  {
   "cell_type": "code",
   "execution_count": 17,
   "id": "7796419f-04c2-49b5-81bf-654fea75acfd",
   "metadata": {},
   "outputs": [
    {
     "name": "stdout",
     "output_type": "stream",
     "text": [
      "2 3 4 10 5 6 7 10 "
     ]
    }
   ],
   "source": [
    "list_one.insert_at_specific_position(10, 7)\n",
    "list_one.print_list()"
   ]
  },
  {
   "cell_type": "code",
   "execution_count": 18,
   "id": "211433d4-19de-4d65-aa90-ab277874319b",
   "metadata": {},
   "outputs": [
    {
     "name": "stdout",
     "output_type": "stream",
     "text": [
      "10 2 3 4 10 5 6 7 10 "
     ]
    }
   ],
   "source": [
    "list_one.insert_at_specific_position(10, 0)\n",
    "list_one.print_list()"
   ]
  },
  {
   "cell_type": "markdown",
   "id": "7956ff85-a656-43b7-af8e-dd5bda5fb88c",
   "metadata": {},
   "source": [
    "### **Insert After a specific value**"
   ]
  },
  {
   "cell_type": "markdown",
   "id": "d3f436f7-bb5a-43d2-98ec-b4bffe5f8994",
   "metadata": {},
   "source": [
    "This is somewhat similar to the above but instead of passing index, we will pass value after which we want the new data."
   ]
  },
  {
   "cell_type": "code",
   "execution_count": 19,
   "id": "a0201c8d-f921-480c-bb5e-ffa53f9a0c8e",
   "metadata": {},
   "outputs": [],
   "source": [
    "class singlyLinkedListExtended(singlyLinkedList):\n",
    "    def __init__(self, value=None):\n",
    "        super().__init__(value)\n",
    "\n",
    "    def insert_after_value(self, present_value, new_value):\n",
    "        new_node = Node(new_value)\n",
    "        # Check if list is empty\n",
    "        if self.length_of_list() == 0:\n",
    "            print('List is Empty!')\n",
    "            return\n",
    "\n",
    "        current = self.head\n",
    "        indicator = False\n",
    "        # Traverse to the node with target value\n",
    "        while current is not None:\n",
    "            if current.data == present_value:\n",
    "                indicator = True\n",
    "                break\n",
    "            current = current.next\n",
    "\n",
    "        # If value found, insert new node after it\n",
    "        if indicator:\n",
    "            new_node.next = current.next\n",
    "            current.next = new_node\n",
    "        else:\n",
    "            print('Value of {} is not found in List'.format(present_value))\n"
   ]
  },
  {
   "cell_type": "code",
   "execution_count": 20,
   "id": "61d6048a-c707-4391-be38-4e7014c8ded7",
   "metadata": {},
   "outputs": [
    {
     "name": "stdout",
     "output_type": "stream",
     "text": [
      "2 3 4 5 6 7 "
     ]
    }
   ],
   "source": [
    "list_one = singlyLinkedListExtended()\n",
    "for i in range(2, 8):\n",
    "    list_one.insert_at_end(i)\n",
    "list_one.print_list()"
   ]
  },
  {
   "cell_type": "code",
   "execution_count": 21,
   "id": "2df4f5d7-1909-4cab-b659-68823b05c516",
   "metadata": {},
   "outputs": [
    {
     "name": "stdout",
     "output_type": "stream",
     "text": [
      "2 3 4 5 10 6 7 "
     ]
    }
   ],
   "source": [
    "list_one.insert_after_value(5, 10)\n",
    "list_one.print_list()"
   ]
  },
  {
   "cell_type": "code",
   "execution_count": 22,
   "id": "bd381796-0cd1-47c6-91d9-31868a28ad31",
   "metadata": {},
   "outputs": [
    {
     "name": "stdout",
     "output_type": "stream",
     "text": [
      "2 10 3 4 5 10 6 7 "
     ]
    }
   ],
   "source": [
    "list_one.insert_after_value(2, 10)\n",
    "list_one.print_list()"
   ]
  },
  {
   "cell_type": "code",
   "execution_count": 23,
   "id": "a9a26277-fd18-4363-9ebe-944d7fe4f98b",
   "metadata": {},
   "outputs": [
    {
     "name": "stdout",
     "output_type": "stream",
     "text": [
      "2 10 3 4 5 10 6 7 10 "
     ]
    }
   ],
   "source": [
    "list_one.insert_after_value(7, 10)\n",
    "list_one.print_list()"
   ]
  },
  {
   "cell_type": "code",
   "execution_count": 24,
   "id": "cfaf5088-9d74-4d3c-ab27-4411599ae98f",
   "metadata": {},
   "outputs": [
    {
     "name": "stdout",
     "output_type": "stream",
     "text": [
      "Value of 12 is not found in List\n"
     ]
    }
   ],
   "source": [
    "list_one.insert_after_value(12, 10)"
   ]
  },
  {
   "cell_type": "markdown",
   "id": "683d51e5-e4e5-4c95-b62d-7cba96251c9a",
   "metadata": {},
   "source": [
    "### **Insert Before a specific value**"
   ]
  },
  {
   "cell_type": "code",
   "execution_count": 25,
   "id": "7ae4d916-c373-4989-9ee7-d4efccf44179",
   "metadata": {},
   "outputs": [],
   "source": [
    "class singlyLinkedListExtended(singlyLinkedList):\n",
    "    def __init__(self, value=None):\n",
    "        super().__init__(value)\n",
    "\n",
    "    def insert_before_value(self, present_value, new_value):\n",
    "        new_node = Node(new_value)\n",
    "        # Check if list is empty\n",
    "        if self.head.data is None:\n",
    "            print('List is Empty!')\n",
    "            return\n",
    "\n",
    "        # If inserting before the head node\n",
    "        if self.head.data == present_value:\n",
    "            new_node.next = self.head\n",
    "            self.head = new_node\n",
    "            return\n",
    "\n",
    "        current = self.head\n",
    "        indicator = False\n",
    "        # Traverse to the node before the target value\n",
    "        while current.next is not None:\n",
    "            if current.next.data == present_value:\n",
    "                indicator = True\n",
    "                break\n",
    "            current = current.next\n",
    "\n",
    "        # If value found, insert new node before it\n",
    "        if indicator:\n",
    "            new_node.next = current.next\n",
    "            current.next = new_node\n",
    "        else:\n",
    "            print('Value of {} is not found in List'.format(present_value))\n"
   ]
  },
  {
   "cell_type": "code",
   "execution_count": 26,
   "id": "c42cabc2-30e8-425f-b902-b8b4a3d4a13a",
   "metadata": {},
   "outputs": [
    {
     "name": "stdout",
     "output_type": "stream",
     "text": [
      "List is Empty!\n"
     ]
    }
   ],
   "source": [
    "list_one = singlyLinkedListExtended()\n",
    "list_one.insert_before_value(10, 2)"
   ]
  },
  {
   "cell_type": "code",
   "execution_count": 27,
   "id": "1893c44a-6365-4054-989c-9d07871448b6",
   "metadata": {},
   "outputs": [
    {
     "name": "stdout",
     "output_type": "stream",
     "text": [
      "2 3 4 5 6 7 "
     ]
    }
   ],
   "source": [
    "list_one = singlyLinkedListExtended()\n",
    "for i in range(2, 8):\n",
    "    list_one.insert_at_end(i)\n",
    "list_one.print_list()"
   ]
  },
  {
   "cell_type": "code",
   "execution_count": 28,
   "id": "fd816be2-be16-484d-a6c8-53a8472f088e",
   "metadata": {},
   "outputs": [
    {
     "name": "stdout",
     "output_type": "stream",
     "text": [
      "2 3 4 5 6 10 7 "
     ]
    }
   ],
   "source": [
    "list_one.insert_before_value(7, 10)\n",
    "list_one.print_list()"
   ]
  },
  {
   "cell_type": "code",
   "execution_count": 29,
   "id": "1e6dac63-438c-459e-9f3f-f9e2c4ab90fb",
   "metadata": {},
   "outputs": [
    {
     "name": "stdout",
     "output_type": "stream",
     "text": [
      "10 2 3 4 5 6 10 7 "
     ]
    }
   ],
   "source": [
    "list_one.insert_before_value(2, 10)\n",
    "list_one.print_list()"
   ]
  },
  {
   "cell_type": "code",
   "execution_count": 30,
   "id": "60b5e6a8-54f2-432e-ac0b-7254d19ab229",
   "metadata": {},
   "outputs": [
    {
     "name": "stdout",
     "output_type": "stream",
     "text": [
      "Value of 20 is not found in List\n"
     ]
    }
   ],
   "source": [
    "list_one.insert_before_value(20, 10)"
   ]
  },
  {
   "cell_type": "markdown",
   "id": "ee101714-98dd-4b9e-81e4-ffa717e42b69",
   "metadata": {},
   "source": [
    "### **Deletion from Beginning of List**"
   ]
  },
  {
   "cell_type": "markdown",
   "id": "17fd148b-1f72-4607-a48d-447f72c19713",
   "metadata": {},
   "source": [
    "Operation: Remove the head node.\n",
    "* Time Complexity: O(1)\n",
    "* Space Complexity: O(1)"
   ]
  },
  {
   "cell_type": "code",
   "execution_count": 31,
   "id": "0cf436d2-ebdc-483e-ae51-baf14e77dfab",
   "metadata": {},
   "outputs": [
    {
     "name": "stdout",
     "output_type": "stream",
     "text": [
      "2 3 "
     ]
    }
   ],
   "source": [
    "class singlyLinkedListExtended(singlyLinkedList):\n",
    "    def __init__(self, value=None):\n",
    "        super().__init__(value)\n",
    "\n",
    "    def delete_from_beginning(self):\n",
    "        # Check if list is empty\n",
    "        if self.head is None:\n",
    "            print('List is empty. Nothing to delete.')\n",
    "            return\n",
    "        new_node = self.head.next  # Save reference to second node\n",
    "        print('{} is deleted'.format(self.head.data))\n",
    "        self.head = new_node  # Make second node the new head\n",
    "\n",
    "\n",
    "list_one = singlyLinkedListExtended()\n",
    "for i in range(2, 4):\n",
    "    list_one.insert_at_end(i)\n",
    "list_one.print_list()"
   ]
  },
  {
   "cell_type": "code",
   "execution_count": 32,
   "id": "2f3518fa-9d64-4a45-95f2-b7318db210ac",
   "metadata": {},
   "outputs": [
    {
     "name": "stdout",
     "output_type": "stream",
     "text": [
      "2 is deleted\n",
      "3 "
     ]
    }
   ],
   "source": [
    "list_one.delete_from_beginning()\n",
    "list_one.print_list()"
   ]
  },
  {
   "cell_type": "code",
   "execution_count": 33,
   "id": "f802691d-6e7f-480b-8629-70a37f5ce8cb",
   "metadata": {},
   "outputs": [
    {
     "name": "stdout",
     "output_type": "stream",
     "text": [
      "3 is deleted\n"
     ]
    }
   ],
   "source": [
    "list_one.delete_from_beginning()\n",
    "list_one.print_list()"
   ]
  },
  {
   "cell_type": "code",
   "execution_count": 34,
   "id": "24297235-d3e4-4185-8f1a-7eb662cd2dfc",
   "metadata": {},
   "outputs": [
    {
     "name": "stdout",
     "output_type": "stream",
     "text": [
      "List is empty. Nothing to delete.\n"
     ]
    }
   ],
   "source": [
    "list_one.delete_from_beginning()\n",
    "list_one.print_list()"
   ]
  },
  {
   "cell_type": "markdown",
   "id": "ff24d1dc-7a4f-4e23-9325-acfc818e347f",
   "metadata": {},
   "source": [
    "### **Deletion from End of List**"
   ]
  },
  {
   "cell_type": "markdown",
   "id": "38affab8-d025-430c-bcff-77b9a69dbaf5",
   "metadata": {},
   "source": [
    "Operation: Remove the tail node.\n",
    "* Time Complexity: O(n)\n",
    "* Space Complexity: O(1)\n",
    "  \n",
    "Traversal to the second-last node is required."
   ]
  },
  {
   "cell_type": "code",
   "execution_count": 35,
   "id": "05f833f8-90da-4009-8790-04d0710eaec3",
   "metadata": {},
   "outputs": [
    {
     "name": "stdout",
     "output_type": "stream",
     "text": [
      "2 3 4 "
     ]
    }
   ],
   "source": [
    "class singlyLinkedListExtended(singlyLinkedList):\n",
    "    def __init__(self, value=None):\n",
    "        super().__init__(value)\n",
    "\n",
    "    def delete_from_end(self):\n",
    "        # Check if list is empty\n",
    "        if self.head is None:\n",
    "            print('List is empty. Nothing to delete.')\n",
    "            return\n",
    "\n",
    "        # If list has only one node\n",
    "        if self.head.next is None:\n",
    "            print('{} is deleted'.format(self.head.data))\n",
    "            self.head = None\n",
    "            return\n",
    "\n",
    "        current = self.head\n",
    "        # Traverse to second last node\n",
    "        while current.next.next is not None:\n",
    "            current = current.next\n",
    "        print('{} is deleted'.format(current.next.data))\n",
    "        current.next = None  # Remove reference to last node\n",
    "\n",
    "\n",
    "list_one = singlyLinkedListExtended()\n",
    "for i in range(2, 5):\n",
    "    list_one.insert_at_end(i)\n",
    "list_one.print_list()"
   ]
  },
  {
   "cell_type": "code",
   "execution_count": 36,
   "id": "4cd779ec-9caa-4611-a403-44af1a017d48",
   "metadata": {},
   "outputs": [
    {
     "name": "stdout",
     "output_type": "stream",
     "text": [
      "4 is deleted\n",
      "2 3 "
     ]
    }
   ],
   "source": [
    "list_one.delete_from_end()\n",
    "list_one.print_list()"
   ]
  },
  {
   "cell_type": "code",
   "execution_count": 37,
   "id": "dfa27464-368c-48d5-8960-5fa1489f3c99",
   "metadata": {},
   "outputs": [
    {
     "name": "stdout",
     "output_type": "stream",
     "text": [
      "3 is deleted\n",
      "2 "
     ]
    }
   ],
   "source": [
    "list_one.delete_from_end()\n",
    "list_one.print_list()"
   ]
  },
  {
   "cell_type": "code",
   "execution_count": 38,
   "id": "5f0c9247-18d5-4f0d-942d-49c5858958a7",
   "metadata": {},
   "outputs": [
    {
     "name": "stdout",
     "output_type": "stream",
     "text": [
      "2 is deleted\n"
     ]
    }
   ],
   "source": [
    "list_one.delete_from_end()\n",
    "list_one.print_list()"
   ]
  },
  {
   "cell_type": "code",
   "execution_count": 39,
   "id": "503b9a3f-5316-4375-8c9a-9f410b8dc1b0",
   "metadata": {},
   "outputs": [
    {
     "name": "stdout",
     "output_type": "stream",
     "text": [
      "List is empty. Nothing to delete.\n"
     ]
    }
   ],
   "source": [
    "list_one.delete_from_end()\n",
    "list_one.print_list()"
   ]
  },
  {
   "cell_type": "markdown",
   "id": "bbaa6bfc-3f40-4f94-aa86-0ac41864c2a1",
   "metadata": {},
   "source": [
    "### **Delete by Value in List**"
   ]
  },
  {
   "cell_type": "markdown",
   "id": "ba319070-abdf-47e4-b066-e9dd4313f6fe",
   "metadata": {},
   "source": [
    "Operation: Remove the first node with a specific value or at a specific index/position\n",
    "* Time Complexity: O(n)\n",
    "* Space Complexity: O(1)"
   ]
  },
  {
   "cell_type": "code",
   "execution_count": 40,
   "id": "9f9d2ae9-fb40-47a7-b50f-84400e642d41",
   "metadata": {},
   "outputs": [
    {
     "name": "stdout",
     "output_type": "stream",
     "text": [
      "2 3 4 5 6 7 8 "
     ]
    }
   ],
   "source": [
    "class singlyLinkedListExtended(singlyLinkedList):\n",
    "    def __init__(self, value=None):\n",
    "        super().__init__(value)\n",
    "\n",
    "    def delete_specific_value(self, value):\n",
    "        # Check if list is empty\n",
    "        if self.head is None:\n",
    "            print('List is empty. Nothing to delete.')\n",
    "            return\n",
    "\n",
    "        # If the value is at head\n",
    "        if self.head.data == value:\n",
    "            print('{} value is deleted'.format(self.head.data))\n",
    "            self.head = self.head.next\n",
    "            return\n",
    "\n",
    "        current = self.head\n",
    "        # Traverse list to find the node before the target\n",
    "        while current.next is not None:\n",
    "            if current.next.data == value:\n",
    "                print('{} value is deleted'.format(current.next.data))\n",
    "                current.next = current.next.next  # Skip the node to delete\n",
    "                return\n",
    "            current = current.next\n",
    "\n",
    "        # Value not found in list\n",
    "        print('{} value is not in List'.format(value))\n",
    "        \n",
    "\n",
    "\n",
    "list_one = singlyLinkedListExtended()\n",
    "for i in range(2, 9):\n",
    "    list_one.insert_at_end(i)\n",
    "list_one.print_list()"
   ]
  },
  {
   "cell_type": "code",
   "execution_count": 41,
   "id": "f40df83d-69ab-4ab0-94c0-ab7031dea21d",
   "metadata": {},
   "outputs": [
    {
     "name": "stdout",
     "output_type": "stream",
     "text": [
      "5 value is deleted\n",
      "2 3 4 6 7 8 "
     ]
    }
   ],
   "source": [
    "list_one.delete_specific_value(5)\n",
    "list_one.print_list()"
   ]
  },
  {
   "cell_type": "code",
   "execution_count": 42,
   "id": "ea41f2a1-76e5-442e-9685-25bf55585483",
   "metadata": {},
   "outputs": [
    {
     "name": "stdout",
     "output_type": "stream",
     "text": [
      "3 value is deleted\n",
      "2 4 6 7 8 "
     ]
    }
   ],
   "source": [
    "list_one.delete_specific_value(3)\n",
    "list_one.print_list()"
   ]
  },
  {
   "cell_type": "code",
   "execution_count": 43,
   "id": "ca8dfec6-b59f-4a3c-8cf0-6bd513d8de59",
   "metadata": {},
   "outputs": [
    {
     "name": "stdout",
     "output_type": "stream",
     "text": [
      "2 value is deleted\n",
      "4 6 7 8 "
     ]
    }
   ],
   "source": [
    "list_one.delete_specific_value(2)\n",
    "list_one.print_list()"
   ]
  },
  {
   "cell_type": "code",
   "execution_count": 44,
   "id": "0281c303-9bc2-4725-8271-dff7733ed2ee",
   "metadata": {},
   "outputs": [
    {
     "name": "stdout",
     "output_type": "stream",
     "text": [
      "8 value is deleted\n",
      "4 6 7 "
     ]
    }
   ],
   "source": [
    "list_one.delete_specific_value(8)\n",
    "list_one.print_list()"
   ]
  },
  {
   "cell_type": "code",
   "execution_count": 45,
   "id": "ccc1c0c5-4b02-414a-8705-d2d02039926a",
   "metadata": {},
   "outputs": [
    {
     "name": "stdout",
     "output_type": "stream",
     "text": [
      "13 value is not in List\n",
      "4 6 7 "
     ]
    }
   ],
   "source": [
    "list_one.delete_specific_value(13)\n",
    "list_one.print_list()"
   ]
  },
  {
   "cell_type": "markdown",
   "id": "8a72d4ec-be1f-451c-bc18-4c95a5ace598",
   "metadata": {},
   "source": [
    "### **Delete by Position in List**"
   ]
  },
  {
   "cell_type": "code",
   "execution_count": 46,
   "id": "7c0a45ba-df86-4072-aa17-c996d6608699",
   "metadata": {},
   "outputs": [
    {
     "name": "stdout",
     "output_type": "stream",
     "text": [
      "2 3 4 5 6 7 8 "
     ]
    }
   ],
   "source": [
    "class singlyLinkedListExtended(singlyLinkedList):\n",
    "    def __init__(self, value=None):\n",
    "        super().__init__(value)\n",
    "\n",
    "    def delete_by_position(self, position):\n",
    "        # Check if list is empty\n",
    "        if self.head is None:\n",
    "            print('List is empty. Nothing to delete.')\n",
    "            return\n",
    "\n",
    "        # If deleting the head node\n",
    "        if position == 0:\n",
    "            print(f\"'{self.head.data}' deleted from position {position}.\")\n",
    "            self.head = self.head.next  # Move head pointer to next node\n",
    "            return\n",
    "\n",
    "        current = self.head\n",
    "        counter = 0\n",
    "        # Traverse the list to reach the node before the target position\n",
    "        while current is not None and counter < position - 1:\n",
    "            current = current.next\n",
    "            counter += 1\n",
    "\n",
    "        # If position is out of bounds\n",
    "        if current is None or current.next is None:\n",
    "            print(f\"Position {position} is out of bounds. Cannot delete.\")\n",
    "            return\n",
    "\n",
    "        # Delete the node by skipping it in the link\n",
    "        print(f\"'{current.next.data}' deleted from position {position}.\")\n",
    "        current.next = current.next.next\n",
    "        \n",
    "\n",
    "list_one = singlyLinkedListExtended()\n",
    "for i in range(2, 9):\n",
    "    list_one.insert_at_end(i)\n",
    "list_one.print_list()"
   ]
  },
  {
   "cell_type": "code",
   "execution_count": 47,
   "id": "880c843f-0674-4b47-9f18-f0ab050c62af",
   "metadata": {},
   "outputs": [
    {
     "name": "stdout",
     "output_type": "stream",
     "text": [
      "'4' deleted from position 2.\n",
      "2 3 5 6 7 8 "
     ]
    }
   ],
   "source": [
    "list_one.delete_by_position(2)\n",
    "list_one.print_list()"
   ]
  },
  {
   "cell_type": "code",
   "execution_count": 48,
   "id": "f4f55766-2659-40eb-9fa6-f52767cdfb6f",
   "metadata": {},
   "outputs": [
    {
     "name": "stdout",
     "output_type": "stream",
     "text": [
      "'2' deleted from position 0.\n",
      "3 5 6 7 8 "
     ]
    }
   ],
   "source": [
    "list_one.delete_by_position(0)\n",
    "list_one.print_list()"
   ]
  },
  {
   "cell_type": "code",
   "execution_count": 49,
   "id": "0ff6cf2b-8d42-4296-8ab4-c3d4612e1a62",
   "metadata": {},
   "outputs": [
    {
     "name": "stdout",
     "output_type": "stream",
     "text": [
      "'8' deleted from position 4.\n",
      "3 5 6 7 "
     ]
    }
   ],
   "source": [
    "list_one.delete_by_position(4)\n",
    "list_one.print_list()"
   ]
  },
  {
   "cell_type": "code",
   "execution_count": 50,
   "id": "c3c9b3ab-c47f-402e-a544-d113607a7913",
   "metadata": {},
   "outputs": [
    {
     "name": "stdout",
     "output_type": "stream",
     "text": [
      "Position 8 is out of bounds. Cannot delete.\n",
      "3 5 6 7 "
     ]
    }
   ],
   "source": [
    "list_one.delete_by_position(8)\n",
    "list_one.print_list()"
   ]
  },
  {
   "cell_type": "markdown",
   "id": "2b6fc3f4-2f8c-467c-8cf6-18f7f7cdf6d1",
   "metadata": {},
   "source": [
    "### **Search**\n",
    "\n",
    "Operation: Search for an element by value.\n",
    "* Time Complexity: O(n)\n",
    "* Space Complexity: O(1)\n",
    "\n",
    "Must potentially traverse every node."
   ]
  },
  {
   "cell_type": "code",
   "execution_count": 51,
   "id": "36500c9b-6140-4d0e-87d8-4a14c99d9d97",
   "metadata": {},
   "outputs": [
    {
     "name": "stdout",
     "output_type": "stream",
     "text": [
      "2 3 4 5 6 7 8 "
     ]
    }
   ],
   "source": [
    "class singlyLinkedListExtended(singlyLinkedList):\n",
    "    def __init__(self, value=None):\n",
    "        super().__init__(value)\n",
    "\n",
    "    # Function to search a node by its value\n",
    "    def search_by_value(self, value_to_find):\n",
    "        # Check if list is empty\n",
    "        if self.head is None:\n",
    "            print(\"List is empty. Value not found.\")\n",
    "            return\n",
    "\n",
    "        current = self.head  # Start from head\n",
    "        position = 0  # Initialize position\n",
    "\n",
    "        # Traverse the list to find the value\n",
    "        while current is not None:\n",
    "            if current.data == value_to_find:\n",
    "                print(f\"Value '{value_to_find}' found at position {position}.\")\n",
    "                return\n",
    "            current = current.next\n",
    "            position += 1\n",
    "\n",
    "        print(f\"Value '{value_to_find}' not found in the list.\")\n",
    "    \n",
    "\n",
    "list_one = singlyLinkedListExtended()\n",
    "for i in range(2, 9):\n",
    "    list_one.insert_at_end(i)\n",
    "list_one.print_list()"
   ]
  },
  {
   "cell_type": "code",
   "execution_count": 52,
   "id": "bf7d3fb7-e75f-4dee-b9ef-6a11ab16fc0e",
   "metadata": {},
   "outputs": [
    {
     "name": "stdout",
     "output_type": "stream",
     "text": [
      "Value '6' found at position 4.\n"
     ]
    }
   ],
   "source": [
    "list_one.search_by_value(6)"
   ]
  },
  {
   "cell_type": "code",
   "execution_count": 53,
   "id": "957988ab-2dab-4857-a9da-c832d7d4475b",
   "metadata": {},
   "outputs": [
    {
     "name": "stdout",
     "output_type": "stream",
     "text": [
      "Value '60' not found in the list.\n"
     ]
    }
   ],
   "source": [
    "list_one.search_by_value(60)"
   ]
  },
  {
   "cell_type": "markdown",
   "id": "70bd2a54-090b-46a4-891d-1b7ba672a229",
   "metadata": {},
   "source": [
    "### **Reversal**\n",
    "\n",
    "Operation: Reverse the links so that the list elements point backward.\n",
    "* Time Complexity: O(n)\n",
    "* Space Complexity: O(1)\n",
    "\n",
    "One-pass in-place algorithm is possible."
   ]
  },
  {
   "cell_type": "code",
   "execution_count": 54,
   "id": "d479843c-ffe9-4ea8-8e34-eec3f89c7005",
   "metadata": {},
   "outputs": [],
   "source": [
    "class singlyLinkedListExtended(singlyLinkedList):\n",
    "    def __init__(self, value=None):\n",
    "        super().__init__(value)\n",
    "\n",
    "    # Function to reverse the entire linked list\n",
    "    def reverse_list(self):\n",
    "        # If list is empty or has one node\n",
    "        if self.head is None or self.head.next is None:\n",
    "            print('There is 0 or 1 node')\n",
    "            return\n",
    "\n",
    "        prev = None  # Initialize previous pointer\n",
    "        current = self.head  # Start from head\n",
    "\n",
    "        # Traverse the list and reverse the links\n",
    "        while current is not None:\n",
    "            next_node = current.next  # Store next node\n",
    "            current.next = prev  # Reverse pointer\n",
    "            prev = current  # Move prev one step forward\n",
    "            current = next_node  # Move current one step forward\n",
    "\n",
    "        self.head = prev  # Set new head of reversed list"
   ]
  },
  {
   "cell_type": "code",
   "execution_count": 55,
   "id": "6855bde1-422c-4f67-a49c-34c08d946f92",
   "metadata": {},
   "outputs": [
    {
     "name": "stdout",
     "output_type": "stream",
     "text": [
      "2 3 4 5 6 7 8 9 \n",
      "9 8 7 6 5 4 3 2 "
     ]
    }
   ],
   "source": [
    "list_one = singlyLinkedListExtended()\n",
    "for i in range(2, 10):\n",
    "    list_one.insert_at_end(i)\n",
    "list_one.print_list()\n",
    "print()\n",
    "list_one.reverse_list()\n",
    "list_one.print_list()"
   ]
  },
  {
   "cell_type": "markdown",
   "id": "e9e7e741-4094-4cdf-953f-4a8d41259916",
   "metadata": {},
   "source": [
    "### **Middle Element Access**\n",
    "\n",
    "Operation: Find the middle node.\n",
    "* Time Complexity: O(n) (or O(n/2) using two-pointer method)\n",
    "* Space Complexity: O(1)"
   ]
  },
  {
   "cell_type": "code",
   "execution_count": 56,
   "id": "4b7c022d-627c-4411-9900-078f81598902",
   "metadata": {},
   "outputs": [
    {
     "name": "stdout",
     "output_type": "stream",
     "text": [
      "2 3 4 5 6 7 8 9 \n",
      "Middle node value -  6\n"
     ]
    }
   ],
   "source": [
    "# Using pointer\n",
    "\n",
    "class singlyLinkedListExtended(singlyLinkedList):\n",
    "    def __init__(self, value=None):\n",
    "        super().__init__(value)\n",
    "\n",
    "    # Function to find middle node using two-pointer approach\n",
    "    def find_middle_node(self):\n",
    "        # Check if list is empty\n",
    "        if self.head is None:\n",
    "            print('List is empty')\n",
    "            return\n",
    "\n",
    "        slow_pointer = self.head  # Moves one step\n",
    "        fast_pointer = self.head  # Moves two steps\n",
    "\n",
    "        # Traverse the list until fast pointer reaches end\n",
    "        while fast_pointer is not None and fast_pointer.next is not None:\n",
    "            slow_pointer = slow_pointer.next\n",
    "            fast_pointer = fast_pointer.next.next\n",
    "\n",
    "        print('Middle node value - ', slow_pointer.data)\n",
    "        return\n",
    "\n",
    "list_one = singlyLinkedListExtended()\n",
    "for i in range(2, 10):\n",
    "    list_one.insert_at_end(i)\n",
    "list_one.print_list()\n",
    "print()\n",
    "list_one.find_middle_node()"
   ]
  },
  {
   "cell_type": "code",
   "execution_count": 57,
   "id": "48621624-9cab-4daa-a51b-7bb84ca8bd6e",
   "metadata": {},
   "outputs": [
    {
     "name": "stdout",
     "output_type": "stream",
     "text": [
      "2 3 4 5 6 7 8 \n",
      "Middle element value is  5\n"
     ]
    }
   ],
   "source": [
    "# Without using pointer\n",
    "\n",
    "class singlyLinkedListExtended(singlyLinkedList):\n",
    "    def __init__(self, value=None):\n",
    "        super().__init__(value)\n",
    "\n",
    "    # Function to find middle node using length\n",
    "    def find_middle_node(self):\n",
    "        # Check if list is empty\n",
    "        if self.head is None:\n",
    "            print('List is empty')\n",
    "            return\n",
    "\n",
    "        length_of_list = self.length_of_list()  # Get total length\n",
    "        middle_node = length_of_list // 2  # Middle index\n",
    "\n",
    "        current = self.head  # Start from head\n",
    "        counter = 0\n",
    "        # Traverse till middle\n",
    "        while counter <= middle_node - 1:\n",
    "            current = current.next\n",
    "            counter += 1\n",
    "\n",
    "        print('Middle element value is ', current.data)\n",
    "\n",
    "\n",
    "\n",
    "list_one = singlyLinkedListExtended()\n",
    "for i in range(2, 9):\n",
    "    list_one.insert_at_end(i)\n",
    "list_one.print_list()\n",
    "print()\n",
    "list_one.find_middle_node()"
   ]
  },
  {
   "cell_type": "markdown",
   "id": "05ff4291-143f-446f-8239-ae4de0ed0f56",
   "metadata": {},
   "source": [
    "### **Detect Cycle (Loop Detection)**\n",
    "\n",
    "Operation: Check if the list contains a loop.\n",
    "* Time Complexity: O(n)\n",
    "* Space Complexity: O(1) (Floyd's cycle-finding algorithm)"
   ]
  },
  {
   "cell_type": "code",
   "execution_count": 58,
   "id": "80e61784-8118-4b92-b4c6-c7865dcf0774",
   "metadata": {},
   "outputs": [
    {
     "name": "stdout",
     "output_type": "stream",
     "text": [
      "There is no Loop for 0 or 1 node.\n"
     ]
    }
   ],
   "source": [
    "class singlyLinkedListExtended(singlyLinkedList):\n",
    "    def __init__(self, value=None):\n",
    "        super().__init__(value)\n",
    "\n",
    "    # Function to detect loop in the linked list using Floyd’s cycle detection\n",
    "    def check_for_loop(self):\n",
    "        # If list has 0 or 1 node, no loop is possible\n",
    "        if self.head is None or self.head.next is None:\n",
    "            print('There is no Loop for 0 or 1 node.')\n",
    "            return\n",
    "\n",
    "        slow_pointer = self.head  # Slow pointer moves 1 step at a time\n",
    "        fast_pointer = self.head  # Fast pointer moves 2 steps at a time\n",
    "\n",
    "        print('Slow pointer value - ', slow_pointer.data)\n",
    "        print('Fast pointer value - ', fast_pointer.data)\n",
    "\n",
    "        # Traverse list with two pointers\n",
    "        while fast_pointer is not None and fast_pointer.next is not None:\n",
    "            slow_pointer = slow_pointer.next\n",
    "            fast_pointer = fast_pointer.next.next\n",
    "\n",
    "            print('Slow pointer value - ', slow_pointer.data)\n",
    "            print('Fast pointer value - ', fast_pointer.data)\n",
    "\n",
    "            # If both pointers meet, loop is detected\n",
    "            if slow_pointer == fast_pointer:\n",
    "                print(f'Loop is detected')\n",
    "                return\n",
    "\n",
    "        print('There is no Loop.')\n",
    "        return\n",
    "\n",
    "my_list = singlyLinkedListExtended()\n",
    "my_list.check_for_loop()"
   ]
  },
  {
   "cell_type": "code",
   "execution_count": 59,
   "id": "339ca078-20c3-465d-bf13-a88557759ba5",
   "metadata": {},
   "outputs": [
    {
     "name": "stdout",
     "output_type": "stream",
     "text": [
      "There is no Loop for 0 or 1 node.\n"
     ]
    }
   ],
   "source": [
    "my_list = singlyLinkedListExtended()\n",
    "my_list.insert_at_end(10)\n",
    "my_list.check_for_loop()"
   ]
  },
  {
   "cell_type": "code",
   "execution_count": 60,
   "id": "c15c12d8-3656-4148-9a93-fa2cbed7c3a9",
   "metadata": {},
   "outputs": [
    {
     "name": "stdout",
     "output_type": "stream",
     "text": [
      "2 3 4 5 6 7 8 \n",
      "Slow pointer value -  2\n",
      "Fast pointer value -  2\n",
      "Slow pointer value -  3\n",
      "Fast pointer value -  4\n",
      "Slow pointer value -  4\n",
      "Fast pointer value -  6\n",
      "Slow pointer value -  5\n",
      "Fast pointer value -  8\n",
      "There is no Loop.\n"
     ]
    }
   ],
   "source": [
    "list_one = singlyLinkedListExtended()\n",
    "for i in range(2, 9):\n",
    "    list_one.insert_at_end(i)\n",
    "list_one.print_list()\n",
    "print()\n",
    "list_one.check_for_loop()"
   ]
  },
  {
   "cell_type": "code",
   "execution_count": 61,
   "id": "cc1e8434-37d5-4070-9e17-85df617a510b",
   "metadata": {},
   "outputs": [],
   "source": [
    "# Let's connect the nodes in loop\n",
    "\n",
    "node1 = Node(10)\n",
    "node2 = Node(20)\n",
    "node3 = Node(30)\n",
    "node4 = Node(40)\n",
    "node1.next = node2\n",
    "node2.next = node3\n",
    "node3.next = node4\n",
    "node4.next = node2\n",
    "\n",
    "list_one = singlyLinkedListExtended()\n",
    "list_one.head = node1"
   ]
  },
  {
   "cell_type": "code",
   "execution_count": 62,
   "id": "57b9a902-2c19-4cf6-b3ab-60c7665cc822",
   "metadata": {},
   "outputs": [
    {
     "name": "stdout",
     "output_type": "stream",
     "text": [
      "Slow pointer value -  10\n",
      "Fast pointer value -  10\n",
      "Slow pointer value -  20\n",
      "Fast pointer value -  30\n",
      "Slow pointer value -  30\n",
      "Fast pointer value -  20\n",
      "Slow pointer value -  40\n",
      "Fast pointer value -  40\n",
      "Loop is detected\n"
     ]
    }
   ],
   "source": [
    "list_one.check_for_loop()"
   ]
  },
  {
   "cell_type": "markdown",
   "id": "cf8b4a64-98cb-475a-adaf-44db99f71e27",
   "metadata": {},
   "source": [
    "### **Swap Values in List**"
   ]
  },
  {
   "cell_type": "code",
   "execution_count": 63,
   "id": "a1139279-5c18-4bc5-ad33-43f475187592",
   "metadata": {},
   "outputs": [],
   "source": [
    "class singlyLinkedListExtended(singlyLinkedList):\n",
    "    def __init__(self, value=None):\n",
    "        super().__init__(value)\n",
    "\n",
    "    # Function to swap two values in the linked list\n",
    "    def swap_values(self, value1, value2):\n",
    "        # Check if list is empty or has only one node\n",
    "        if self.head is None or self.head.next is None:\n",
    "            print('There is 0 or 1 data, swap is not possible')\n",
    "            return\n",
    "\n",
    "        # If both values are the same, no need to swap\n",
    "        if value1 == value2:\n",
    "            print('Both values to swap are equal')\n",
    "            return\n",
    "\n",
    "        current = self.head  # Start from head node\n",
    "        value1_position, value2_position = -1, -1  # Initialize positions\n",
    "        position = 0  # Position counter\n",
    "\n",
    "        # Traverse the list to find positions of both values\n",
    "        while current is not None:\n",
    "            if current.data == value1:\n",
    "                print('Found {}'.format(value1))\n",
    "                value1_position = position\n",
    "            if current.data == value2:\n",
    "                print('Found {}'.format(value2))\n",
    "                value2_position = position\n",
    "            current = current.next\n",
    "            position += 1\n",
    "\n",
    "        # Check if value1 was not found\n",
    "        if value1_position == -1:\n",
    "            print('{} is not present in list, swapping not possible'.format(value1))\n",
    "            return\n",
    "\n",
    "        # Check if value2 was not found\n",
    "        if value2_position == -1:\n",
    "            print('{} is not present in list, swapping not possible'.format(value2))\n",
    "            return\n",
    "\n",
    "        # Re-traverse to value1's position and swap the data\n",
    "        counter = 0\n",
    "        current = self.head\n",
    "        while counter <= value1_position - 1:\n",
    "            current = current.next\n",
    "            counter += 1\n",
    "        current.data = value2  # Swap value1's data to value2\n",
    "\n",
    "        # Re-traverse to value2's position and swap the data\n",
    "        counter = 0\n",
    "        current = self.head\n",
    "        while counter <= value2_position - 1:\n",
    "            current = current.next\n",
    "            counter += 1\n",
    "        current.data = value1  # Swap value2's data to value1\n",
    "        return\n",
    "\n",
    "        "
   ]
  },
  {
   "cell_type": "code",
   "execution_count": 64,
   "id": "962abef8-f24f-4ad1-892c-50846971bd9d",
   "metadata": {},
   "outputs": [
    {
     "name": "stdout",
     "output_type": "stream",
     "text": [
      "2 3 4 5 6 7 8 \n"
     ]
    }
   ],
   "source": [
    "list_one = singlyLinkedListExtended()\n",
    "for i in range(2, 9):\n",
    "    list_one.insert_at_end(i)\n",
    "list_one.print_list()\n",
    "print()"
   ]
  },
  {
   "cell_type": "code",
   "execution_count": 65,
   "id": "86312969-3429-4828-87ee-92105ed0f07a",
   "metadata": {},
   "outputs": [
    {
     "name": "stdout",
     "output_type": "stream",
     "text": [
      "Found 4\n",
      "Found 7\n",
      "2 3 7 5 6 4 8 "
     ]
    }
   ],
   "source": [
    "list_one.swap_values(4,7)\n",
    "list_one.print_list()"
   ]
  },
  {
   "cell_type": "code",
   "execution_count": 66,
   "id": "edf9ba91-a581-4d9e-947b-aff65d6e5bc1",
   "metadata": {},
   "outputs": [
    {
     "name": "stdout",
     "output_type": "stream",
     "text": [
      "Found 4\n",
      "10 is not present in list, swapping not possible\n",
      "2 3 7 5 6 4 8 "
     ]
    }
   ],
   "source": [
    "list_one.swap_values(4,10)\n",
    "list_one.print_list()"
   ]
  },
  {
   "cell_type": "code",
   "execution_count": 67,
   "id": "cf81e55f-8fa5-4f6c-9880-732f31aa0401",
   "metadata": {},
   "outputs": [
    {
     "name": "stdout",
     "output_type": "stream",
     "text": [
      "Found 2\n",
      "Found 8\n",
      "8 3 7 5 6 4 2 "
     ]
    }
   ],
   "source": [
    "list_one.swap_values(2,8)\n",
    "list_one.print_list()"
   ]
  },
  {
   "cell_type": "markdown",
   "id": "15c3fcea-b3e9-41e2-8055-a0a0e292e762",
   "metadata": {},
   "source": [
    "### **Get the Nth Last Node**"
   ]
  },
  {
   "cell_type": "code",
   "execution_count": 68,
   "id": "979a30c0-8907-4df9-861e-b848382c023e",
   "metadata": {},
   "outputs": [
    {
     "name": "stdout",
     "output_type": "stream",
     "text": [
      "2 3 4 5 6 7 8 9 10 11 12 13 14 15 16 17 18 "
     ]
    }
   ],
   "source": [
    "class singlyLinkedListExtended(singlyLinkedList):\n",
    "    def __init__(self, value=None):\n",
    "        super().__init__(value)\n",
    "\n",
    "    def nth_last_node(self, n):  # Function to get the n-th last node value\n",
    "        total_length = self.length_of_list()  # First, calculate total number of nodes\n",
    "\n",
    "        if n <= 0 or n > total_length:  # Check if n is valid\n",
    "            print(\"Invalid position: out of bounds\")  # Inform about error\n",
    "            return\n",
    "\n",
    "        target_index = total_length - n  # Calculate index from beginning (0-based)\n",
    "        current = self.head  # Start traversal from the head\n",
    "\n",
    "        for _ in range(target_index):  # Move to the target node\n",
    "            current = current.next\n",
    "\n",
    "        print(f\"{n}-th last node is: {current.data}\")  # Display the found node’s data\n",
    "\n",
    "\n",
    "list_one = singlyLinkedListExtended()\n",
    "for i in range(2, 19):\n",
    "    list_one.insert_at_end(i)\n",
    "list_one.print_list()"
   ]
  },
  {
   "cell_type": "code",
   "execution_count": 69,
   "id": "a1ec2712-54d7-4f3a-8a03-3eff08b628a3",
   "metadata": {},
   "outputs": [
    {
     "name": "stdout",
     "output_type": "stream",
     "text": [
      "4-th last node is: 15\n"
     ]
    }
   ],
   "source": [
    "list_one.nth_last_node(4)"
   ]
  },
  {
   "cell_type": "markdown",
   "id": "b3a1063c-0a7c-4bb8-ba6b-0268759c5cee",
   "metadata": {},
   "source": [
    "### **Space and Time Complexity Table**"
   ]
  },
  {
   "cell_type": "markdown",
   "id": "a2971cea-4ba9-436e-90f1-e2f5462f9df2",
   "metadata": {},
   "source": [
    "Each node in a singly linked list contains:\n",
    "\n",
    "* `data` → O(1)\n",
    "* `next` pointer → O(1)\n",
    "\n",
    "So total space overhead per node:\n",
    "**O(1)** → Total space for `n` nodes is **O(n)**.\n",
    "\n",
    "---\n",
    "\n",
    "\n",
    "| Category  | Operation                    | Time       | Space |\n",
    "| --------- | ---------------------------- | ---------- | ----- |\n",
    "| Insertion | Beginning                    | O(1)       | O(1)  |\n",
    "|           | End / Position / Value-based | O(n)       | O(1)  |\n",
    "| Deletion  | Beginning                    | O(1)       | O(1)  |\n",
    "|           | End / Value / Position       | O(n)       | O(1)  |\n",
    "| Search    | By Value                     | O(n)       | O(1)  |\n",
    "| Utility   | Length / Middle / Nth Last   | O(n)       | O(1)  |\n",
    "|           | Reverse                      | O(n)       | O(1)  |\n",
    "|           | Swap                         | O(n)       | O(1)  |\n",
    "|           | Detect Loop                  | O(n)       | O(1)  |\n",
    "\n"
   ]
  },
  {
   "cell_type": "code",
   "execution_count": null,
   "id": "42602aa9-95ff-49e5-bd1b-dedb7d86b809",
   "metadata": {},
   "outputs": [],
   "source": []
  }
 ],
 "metadata": {
  "kernelspec": {
   "display_name": "Python 3 (ipykernel)",
   "language": "python",
   "name": "python3"
  },
  "language_info": {
   "codemirror_mode": {
    "name": "ipython",
    "version": 3
   },
   "file_extension": ".py",
   "mimetype": "text/x-python",
   "name": "python",
   "nbconvert_exporter": "python",
   "pygments_lexer": "ipython3",
   "version": "3.10.8"
  }
 },
 "nbformat": 4,
 "nbformat_minor": 5
}
