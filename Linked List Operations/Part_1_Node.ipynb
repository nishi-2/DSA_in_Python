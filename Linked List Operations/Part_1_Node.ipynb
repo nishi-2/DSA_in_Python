{
 "cells": [
  {
   "cell_type": "markdown",
   "id": "a1ad9a3b-e6ef-48b5-b4d6-6b27c6f0453a",
   "metadata": {},
   "source": [
    "## **Introduction**"
   ]
  },
  {
   "cell_type": "markdown",
   "id": "8aa05ef8-8c03-49ec-9b8c-eb399f251245",
   "metadata": {},
   "source": [
    "### **What is a Data Structure?**\n",
    "A data structure is a specialized format for organizing, storing, and managing data in a computer so it can be accessed and modified efficiently. The choice of data structure can dramatically affect the performance of an algorithm or an entire program.\n",
    "\n",
    "In Python, while many data structures are built-in (like lists, sets, dictionaries), others (like trees, graphs, or linked lists) are implemented manually or via libraries.\n",
    "\n",
    "---\n",
    "\n",
    "### **What is an Algorithm?**\n",
    "An algorithm is a finite sequence of well-defined steps to solve a specific problem or perform a computation. It defines the logic and flow to process input and produce output.\n",
    "\n",
    "Example: Binary Search, Bubble Sort, Dijkstra’s Algorithm, etc.\n",
    "\n",
    "---"
   ]
  },
  {
   "cell_type": "markdown",
   "id": "65dfd336-8bc3-48b0-b609-c61edb30903c",
   "metadata": {},
   "source": [
    "### **What is a Node?**\n",
    "\n",
    "In data structures, a Node is a fundamental building block. Think of a Node as a tiny container or unit that stores data and connections (links) to other nodes.\n",
    "\n",
    "You might not have heard the term “Node” before, but if you've ever looked at:\n",
    "* A train (each coach is connected to the next),\n",
    "* Or a family tree (a person connected to their parents and children),\n",
    "you’ve seen something like a Node-based structure.\n",
    "\n",
    "\n",
    "**Real-world analogy**: A node is like a box. Inside the box:\n",
    "* You put some data (e.g., a number or name),\n",
    "* And a pointer (an arrow) that tells you where the next box is.\n",
    "\n",
    "So to say, every node has two main parts:\n",
    "* **Data** — the actual value it holds (e.g., 5, \"apple\")\n",
    "* **Pointer/Reference** — the link to the next node (or multiple nodes)"
   ]
  },
  {
   "cell_type": "markdown",
   "id": "78455a9f-0a8e-4364-934e-5b2cc7138368",
   "metadata": {},
   "source": [
    "Let us start with Single Linked List and we will keep on learning more about DSA concepts along the way!"
   ]
  },
  {
   "cell_type": "markdown",
   "id": "83c33083-4156-4623-a871-37c3eae85299",
   "metadata": {},
   "source": [
    "## **About Node**"
   ]
  },
  {
   "cell_type": "markdown",
   "id": "7032f715-50e8-4a0b-bed0-9b35e6dff6ab",
   "metadata": {},
   "source": [
    "Create a Node class as below. Remember that a Node is a container that has data and an address to the next container."
   ]
  },
  {
   "cell_type": "code",
   "execution_count": 1,
   "id": "bef3ba59-80e3-44cc-a411-e674438749b4",
   "metadata": {},
   "outputs": [],
   "source": [
    "class Node:\n",
    "    \"\"\"\n",
    "    Represents a single node in a linked list.\n",
    "    Each node contains some data and a reference (link) to the next node in the list.\n",
    "    \"\"\"\n",
    "\n",
    "    def __init__(self, data, next_node=None):\n",
    "        \"\"\"\n",
    "        Initializes a new node with the given data and an optional reference to the next node.\n",
    "        \n",
    "        Parameters:\n",
    "        - data: The value to store in the node.\n",
    "        - next_node: The reference to the next node in the list (defaults to None).\n",
    "        \"\"\"\n",
    "        self.data = data                # Holds the data for this node\n",
    "        self.next_node = next_node           # Points to the next node in the list (None if it's the last node)\n"
   ]
  },
  {
   "cell_type": "markdown",
   "id": "0dcdfb87-7a16-498d-a910-e992b561b827",
   "metadata": {},
   "source": [
    "To safely access the contents of a node, it's a good practice to define getter methods rather than accessing the internal attributes (data, next) directly. This promotes encapsulation, improves readability, and makes future updates to internal logic easier without changing how the class is used.\n",
    "\n",
    "We’ll define two methods:\n",
    "* .get_value() – returns the data stored in the node.\n",
    "* .get_next_node() – returns the reference to the next node (or None if there isn’t one)."
   ]
  },
  {
   "cell_type": "code",
   "execution_count": 2,
   "id": "b308d509-396d-48f1-b721-510b25e70e1a",
   "metadata": {},
   "outputs": [],
   "source": [
    "class Node:\n",
    "    def __init__(self, data, next_node=None):\n",
    "        self.data = data\n",
    "        self.next_node = next_node\n",
    "        \n",
    "    def get_value(self):\n",
    "        \"\"\"\n",
    "        Returns the value/data stored in this node.\n",
    "        \"\"\"\n",
    "        return self.data\n",
    "\n",
    "    def get_next_node(self):\n",
    "        \"\"\"\n",
    "        Returns the reference to the next node in the list.\n",
    "        If there is no next node, returns None.\n",
    "        \"\"\"\n",
    "        return self.next_node"
   ]
  },
  {
   "cell_type": "markdown",
   "id": "5df4cdee-52ec-4f66-8386-0bc8a9ed02a8",
   "metadata": {},
   "source": [
    "In this design, we only allow setting the node's value during initialization, but we may need to update the link to the next node later (e.g., during insertion in a linked list).\n",
    "To do this safely and clearly, we define a setter method named .set_next_node(). This approach keeps internal attributes encapsulated and allows controlled modification."
   ]
  },
  {
   "cell_type": "code",
   "execution_count": 3,
   "id": "6925d4d0-85fa-4c03-9697-29363c81f341",
   "metadata": {},
   "outputs": [],
   "source": [
    "class Node:\n",
    "    def __init__(self, data, next_node=None):\n",
    "        self.data = data\n",
    "        self.next_node = next_node\n",
    "\n",
    "    def get_data(self):\n",
    "        return self.data\n",
    "\n",
    "    def get_next_node(self):\n",
    "        return self.next_node\n",
    "\n",
    "    def set_next_node(self, next_node):\n",
    "        \"\"\"\n",
    "        Updates the reference to the next node.\n",
    "\n",
    "        Parameters:\n",
    "        - next_node: The new node that we want to link to the current node.\n",
    "        \"\"\"\n",
    "        self.next_node = next_node\n",
    "\n"
   ]
  },
  {
   "cell_type": "markdown",
   "id": "26f1cd18-a477-4a36-93f1-70c7afd4c961",
   "metadata": {},
   "source": [
    "Confused by how nodes link together? Let’s break it down clearly:\n",
    "\n",
    "If you’re still wondering how nodes connect, don’t worry! This example will make everything crystal clear. \n",
    "\n",
    "**Create Node objects** - Our Node class requires one compulsory value during creation. This value can be text, number, or any data."
   ]
  },
  {
   "cell_type": "code",
   "execution_count": 4,
   "id": "4373632c-3396-4771-a19a-03a59d98d71f",
   "metadata": {},
   "outputs": [
    {
     "name": "stdout",
     "output_type": "stream",
     "text": [
      "Dog is at the address -  <__main__.Node object at 0x000002200ACEC070>\n",
      "Cat is at the address -  <__main__.Node object at 0x000002200ACED330>\n",
      "Cow is at the address -  <__main__.Node object at 0x000002200ACED4B0>\n"
     ]
    }
   ],
   "source": [
    "# Here, we’ve created three nodes with descriptive string values.\n",
    "\n",
    "dog = Node('Barks all day!')\n",
    "cat = Node('Sleeps mostly')\n",
    "cow = Node('Eats grass')\n",
    "\n",
    "# When we create objects in Python, they are stored at unique memory addresses. Let’s print those out\n",
    "print('Dog is at the address - ', dog)\n",
    "print('Cat is at the address - ', cat)\n",
    "print('Cow is at the address - ', cow)"
   ]
  },
  {
   "cell_type": "markdown",
   "id": "74e730f8-52bb-4dfd-99c0-232fb26537fe",
   "metadata": {},
   "source": [
    "Notice how the address of each object is different — these are the locations in memory where the nodes live.\n",
    "\n",
    "**Check what’s stored inside a node** - Let’s look inside the dog node to see what data it holds and whether it's linked to another node yet."
   ]
  },
  {
   "cell_type": "code",
   "execution_count": 5,
   "id": "78ce652b-baad-4fa3-98d9-0df296edb1d1",
   "metadata": {},
   "outputs": [
    {
     "name": "stdout",
     "output_type": "stream",
     "text": [
      "Data stored in object named Dog -  Barks all day!\n",
      "Address to some other node stored in object Dog -  None\n"
     ]
    }
   ],
   "source": [
    "print('Data stored in object named Dog - ',dog.get_data())\n",
    "print('Address to some other node stored in object Dog - ', dog.get_next_node())"
   ]
  },
  {
   "cell_type": "markdown",
   "id": "14f183dd-2b0d-48d9-b98c-95ae2df48fa5",
   "metadata": {},
   "source": [
    "As expected, the link is None because we haven’t connected the dog to any other node yet.\n",
    "\n",
    "**Link the Dog node to the Cat node** - We’ll now use the .set_next_node() method to connect them."
   ]
  },
  {
   "cell_type": "code",
   "execution_count": 6,
   "id": "d4947082-87f5-472a-b335-fff1709c07f6",
   "metadata": {},
   "outputs": [],
   "source": [
    "dog.set_next_node(cat)"
   ]
  },
  {
   "cell_type": "markdown",
   "id": "f9a91b5c-bce2-49ff-ba10-e0b60547c2c4",
   "metadata": {},
   "source": [
    "Now let’s verify if the link has been established:"
   ]
  },
  {
   "cell_type": "code",
   "execution_count": 7,
   "id": "563eba97-33bb-4cd6-affa-f423cbe34083",
   "metadata": {},
   "outputs": [
    {
     "name": "stdout",
     "output_type": "stream",
     "text": [
      "Data stored in object named Dog -  Barks all day!\n",
      "Address to some other node stored in object Dog -  <__main__.Node object at 0x000002200ACED330>\n"
     ]
    }
   ],
   "source": [
    "print('Data stored in object named Dog - ',dog.get_data())\n",
    "print('Address to some other node stored in object Dog - ', dog.get_next_node())"
   ]
  },
  {
   "cell_type": "markdown",
   "id": "53f3dd48-5b77-4fa9-9530-83f22df1133d",
   "metadata": {},
   "source": [
    "That's the same address as the cat node! We’ve just created a link between dog → cat.\n",
    "\n",
    "**Now access linked data** -\n",
    "You can access the data in the cat node in two ways:"
   ]
  },
  {
   "cell_type": "code",
   "execution_count": 9,
   "id": "6fbe2d7f-c53d-4a8a-9c86-b652560602fd",
   "metadata": {},
   "outputs": [
    {
     "name": "stdout",
     "output_type": "stream",
     "text": [
      "Cat says: Sleeps mostly\n",
      "Accessing Cat via Dog: Sleeps mostly\n"
     ]
    }
   ],
   "source": [
    "# Direct access\n",
    "print('Cat says:', cat.get_data())\n",
    "\n",
    "# Indirect access via dog node\n",
    "print('Accessing Cat via Dog:', dog.get_next_node().get_data())"
   ]
  },
  {
   "cell_type": "markdown",
   "id": "f1e6b8b3-b649-428f-b4cd-dbd7e7dbda53",
   "metadata": {},
   "source": [
    "This confirms the link is working: dog → cat. Let’s now link the cow node after the cat node:"
   ]
  },
  {
   "cell_type": "code",
   "execution_count": 10,
   "id": "ba066021-b638-4144-a099-656e6e2dc399",
   "metadata": {},
   "outputs": [],
   "source": [
    "cat.set_next_node(cow)\n",
    "\n",
    "# So now the chain looks like: dog → cat → cow"
   ]
  },
  {
   "cell_type": "markdown",
   "id": "bb072c0b-a3f4-4696-94d7-26fb8855e851",
   "metadata": {},
   "source": [
    "**Create and link a new node at creation** - Suppose we want to add a puppy node before dog, and we want it linked to dog immediately at creation. Our Node class allows this via the constructor:"
   ]
  },
  {
   "cell_type": "code",
   "execution_count": 11,
   "id": "965e46a8-ad3b-45e8-a3e5-0accc49323ef",
   "metadata": {},
   "outputs": [
    {
     "name": "stdout",
     "output_type": "stream",
     "text": [
      "Data in Puppy onbject -  Very Energitic\n",
      "Address located in the next block of puppy object -  <__main__.Node object at 0x000002200ACEC070>\n"
     ]
    }
   ],
   "source": [
    "puppy = Node('Very Energitic', dog)\n",
    "\n",
    "# Let’s check what’s inside the puppy node\n",
    "print('Data in Puppy onbject - ', puppy.get_data())\n",
    "print('Address located in the next block of puppy object - ', puppy.get_next_node())"
   ]
  },
  {
   "cell_type": "code",
   "execution_count": 12,
   "id": "09423b4d-b0cb-425d-9353-0c0e2256524e",
   "metadata": {},
   "outputs": [
    {
     "name": "stdout",
     "output_type": "stream",
     "text": [
      "Puppy object is linked to Dog object?  True\n"
     ]
    }
   ],
   "source": [
    "# Is puppy linked to dog\n",
    "\n",
    "print('Puppy object is linked to Dog object? ',dog == puppy.get_next_node())"
   ]
  },
  {
   "cell_type": "code",
   "execution_count": 13,
   "id": "7d139cf0-3797-440c-a3df-0bf1985f9115",
   "metadata": {},
   "outputs": [
    {
     "data": {
      "text/plain": [
       "'Barks all day!'"
      ]
     },
     "execution_count": 13,
     "metadata": {},
     "output_type": "execute_result"
    }
   ],
   "source": [
    "# We can now access dog's data via puppy\n",
    "\n",
    "puppy.get_next_node().get_data()"
   ]
  },
  {
   "cell_type": "markdown",
   "id": "80199b77-015e-4390-b342-21d35531d3a7",
   "metadata": {},
   "source": [
    "**Finally, our linked nodes looks like this - puppy → dog → cat → cow**. This is the core of a singly linked list structure!"
   ]
  },
  {
   "cell_type": "code",
   "execution_count": 14,
   "id": "95567db6-1ecb-4a71-953c-1fd52fe7dd9e",
   "metadata": {},
   "outputs": [
    {
     "name": "stdout",
     "output_type": "stream",
     "text": [
      "Cat Data -  Sleeps mostly\n",
      "Cow Data -  Eats grass\n"
     ]
    }
   ],
   "source": [
    "# We can access cat and cow data from puppy data as below \n",
    "\n",
    "print('Cat Data - ', puppy.get_next_node().get_next_node().get_data())\n",
    "print('Cow Data - ', puppy.get_next_node().get_next_node().get_next_node().get_data())"
   ]
  },
  {
   "cell_type": "markdown",
   "id": "ae048a3e-cf82-4cf9-a445-9ab9caa61125",
   "metadata": {},
   "source": [
    "Now let's try to see what happens if we try adding another node after dog object, that is before the cat object -"
   ]
  },
  {
   "cell_type": "code",
   "execution_count": 15,
   "id": "902d0240-863c-4e58-99e5-09374a305315",
   "metadata": {},
   "outputs": [],
   "source": [
    "kitten = Node('Little puff ball!', cat) # Passing the cat node as we want it to be the next node that is kitten should be before it"
   ]
  },
  {
   "cell_type": "code",
   "execution_count": 19,
   "id": "19c35178-6352-47d6-9096-5a28ac50065b",
   "metadata": {},
   "outputs": [
    {
     "name": "stdout",
     "output_type": "stream",
     "text": [
      "Kitten Data -  Little puff ball!\n",
      "Kitten is connected to Cat?  True\n"
     ]
    }
   ],
   "source": [
    "print('Kitten Data - ', kitten.get_data())\n",
    "print('Kitten is connected to Cat? ',kitten.get_next_node() == cat)"
   ]
  },
  {
   "cell_type": "code",
   "execution_count": 20,
   "id": "d8ba95d1-2383-4148-ae7f-5add1a9ff6fc",
   "metadata": {},
   "outputs": [
    {
     "name": "stdout",
     "output_type": "stream",
     "text": [
      "Is dog connected to Cat ?  True\n",
      "Is dog connected to Kitten ?  False\n"
     ]
    }
   ],
   "source": [
    "print('Is dog connected to Cat ? ', dog.get_next_node() == cat)\n",
    "print('Is dog connected to Kitten ? ', dog.get_next_node() == kitten)"
   ]
  },
  {
   "cell_type": "markdown",
   "id": "36920bf1-666b-4346-9724-35dec549a955",
   "metadata": {},
   "source": [
    "Initially, our intention was for Dog to link to Kitten, and then Kitten to link to Cat. However, that didn't happen because Dog was directly connected to Cat, and the link to Kitten was never established. This illustrates a common issue called branching, where the proper flow breaks due to overwriting a reference.\n",
    "\n",
    "So how can we correctly insert Kitten between Dog and Cat to achieve the desired sequence:\n",
    "puppy → dog → kitten → cat → cow? \n",
    "Well you can do that by setting the next node of dog to kitten - dog.set_next_node(kitten) and this will work!\n",
    "\n",
    "We’ll explore the connections and many other linked operations like traversal, insertion, and deletion in our upcoming section on Singly Linked Lists. For now, you should have a solid grasp of how Node works and why it's so essential in building linked structures."
   ]
  },
  {
   "cell_type": "markdown",
   "id": "9a1616b3-61f5-4687-95d2-380690f0532d",
   "metadata": {},
   "source": [
    "## **Summary**"
   ]
  },
  {
   "cell_type": "markdown",
   "id": "8599f7f3-5712-4f19-b689-2b022eb07bd5",
   "metadata": {},
   "source": [
    "A **Node** is the core unit of many data structures, consisting of data and a reference (or link) to another node. Nodes are essential for creating dynamic and flexible structures like linked lists, trees, and graphs. Unlike arrays, they don’t need contiguous memory, making operations like insertion and deletion more efficient. Data structures such as singly linked lists, doubly linked lists, stacks, queues, and trees rely heavily on nodes for organizing and connecting data. Mastering nodes provides a foundation for understanding complex structures and algorithms, enabling efficient data manipulation and memory usage. Understanding how nodes link together is key to building structures where order, connection, and navigation are crucial. Nodes form the backbone of many algorithms and real-world programming systems.\n"
   ]
  }
 ],
 "metadata": {
  "kernelspec": {
   "display_name": "Python 3 (ipykernel)",
   "language": "python",
   "name": "python3"
  },
  "language_info": {
   "codemirror_mode": {
    "name": "ipython",
    "version": 3
   },
   "file_extension": ".py",
   "mimetype": "text/x-python",
   "name": "python",
   "nbconvert_exporter": "python",
   "pygments_lexer": "ipython3",
   "version": "3.10.8"
  }
 },
 "nbformat": 4,
 "nbformat_minor": 5
}
