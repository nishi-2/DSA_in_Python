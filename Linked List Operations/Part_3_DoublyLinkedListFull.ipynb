{
 "cells": [
  {
   "cell_type": "markdown",
   "id": "58c0fef7-615a-421e-815a-fcd0ec993a49",
   "metadata": {},
   "source": [
    "## **Content**"
   ]
  },
  {
   "cell_type": "markdown",
   "id": "1a48c0ef-c596-4261-b5cf-044d787a20ea",
   "metadata": {},
   "source": [
    "<b>\n",
    "    \n",
    "1. Introduction to Doubly Linked List\n",
    "2. Insert at beginning\n",
    "3. Insert at beginning and print list\n",
    "4. Insert at end\n",
    "5. Insert at specific position and get the length of list\n",
    "6. Insert after a specific value\n",
    "7. Insert before a specific value\n",
    "8. Deletion from beginning of list\n",
    "9. Deletion from end of list\n",
    "10. Delete by value in list\n",
    "11. Delete by position in list\n",
    "12. Search\n",
    "13. Reversal\n",
    "14. Middle element access\n",
    "15. Loop Detection\n",
    "16. Swap values\n",
    "17. Get Nth Last Node\n",
    "18. Space and Time Complexity Table\n",
    "\n",
    "</b>"
   ]
  },
  {
   "cell_type": "markdown",
   "id": "8fd023c1-6b10-4c71-b4f4-ebb7dc0119f4",
   "metadata": {},
   "source": [
    "## **Doubly Linked List**"
   ]
  },
  {
   "cell_type": "markdown",
   "id": "1a74f6ec-d5b5-4dfb-8d13-cf7d58ebd6db",
   "metadata": {},
   "source": [
    "### **Introduction**"
   ]
  },
  {
   "cell_type": "markdown",
   "id": "4e8db695-98b5-4523-9915-7850e36165e0",
   "metadata": {},
   "source": [
    "A **Doubly Linked List (DLL)** is a complex but highly flexible linear data structure that consists of a sequence of elements called nodes, where each node contains three parts:\n",
    "\n",
    "1. **Data** – The value stored in the node.\n",
    "2. **Pointer to the next node** – This connects the current node to the one that comes after it.\n",
    "3. **Pointer to the previous node** – This connects the current node to the one that comes before it.\n",
    "\n",
    "\n",
    "\n",
    "**Structure of a Doubly Linked List**\n",
    "\n",
    "Imagine a chain of boxes (nodes), each box:\n",
    "\n",
    "* Holds a value (`data`).\n",
    "* Has a left arrow (`prev`) pointing to the previous box.\n",
    "* Has a right arrow (`next`) pointing to the next box.\n",
    "\n",
    "At any point, from a given node, you can move forward using `.next` or move backward using `.prev`, unlike singly linked list where we were moving only forward.\n",
    "\n",
    "Example:\n",
    "\n",
    "```\n",
    "None <- [10] <-> [20] <-> [30] -> None\n",
    "```\n",
    "\n",
    "\n",
    "**Few Usefulness of DLL -**\n",
    "\n",
    "1. **Bidirectional Traversal**\n",
    "\n",
    "Unlike a singly linked list, where you can only go forward, DLL allows you to go forward and backward easily. This is critical in:\n",
    "\n",
    "* Navigational systems (next/previous page)\n",
    "* Browser history\n",
    "* Undo/Redo operations in text editors\n",
    "\n",
    "2. **Efficient Deletion**\n",
    "\n",
    "In a singly linked list, to delete a node, you often need to keep track of the previous node. In DLL, since each node knows its predecessor (`prev`), deletion becomes more time-efficient and cleaner, especially in the middle of the list.\n",
    "\n",
    "3. **Better Flexibility with Insertions**\n",
    "\n",
    "DLLs allow for easy insertions before and after a node, as both directions are accessible.\n",
    "\n",
    "\n",
    "**Trade-offs**\n",
    "\n",
    "* **More memory usage** due to extra pointer (`prev`).\n",
    "* **Slightly more complex code**, especially for edge cases like head/tail insertions.\n",
    "* **Not cache-friendly** like arrays.\n",
    "\n",
    "\n",
    "\n"
   ]
  },
  {
   "cell_type": "markdown",
   "id": "a8e82280-c1d4-4f34-821b-4906adbeedc6",
   "metadata": {},
   "source": [
    "### **Insertion at beginning**"
   ]
  },
  {
   "cell_type": "code",
   "execution_count": 1,
   "id": "d53ab66b-5138-432b-82bd-24e2de808d82",
   "metadata": {},
   "outputs": [],
   "source": [
    "class Node:\n",
    "    def __init__(self, data):\n",
    "        self.data = data\n",
    "        self.next = None\n",
    "        self.prev = None\n",
    "\n",
    "\n",
    "class doublyLinkedList:\n",
    "    def __init__(self):\n",
    "        self.head = None  # To keep a track of the first node\n",
    "        self.tail = None # To keep a track of the last node\n",
    "\n",
    "    def insert_at_beginning(self, data):\n",
    "        new_node = Node(data)\n",
    "    \n",
    "        if self.head is None:  # Case: Empty list\n",
    "            self.head = new_node\n",
    "            self.tail = new_node\n",
    "        else:  # Case: Non-empty list\n",
    "            new_node.next = self.head       # Point new node to current head\n",
    "            self.head.prev = new_node       # Set current head's prev to new node\n",
    "            self.head = new_node            # Update head to new node"
   ]
  },
  {
   "cell_type": "code",
   "execution_count": 2,
   "id": "677960ed-b439-4aca-b5ca-d1b900163f0a",
   "metadata": {},
   "outputs": [
    {
     "data": {
      "text/plain": [
       "<__main__.doublyLinkedList at 0x252bc5f19c0>"
      ]
     },
     "execution_count": 2,
     "metadata": {},
     "output_type": "execute_result"
    }
   ],
   "source": [
    "list_one = doublyLinkedList()\n",
    "list_one"
   ]
  },
  {
   "cell_type": "code",
   "execution_count": 3,
   "id": "6fa6e87e-6234-48d0-b323-9c64b3c4e058",
   "metadata": {},
   "outputs": [
    {
     "data": {
      "text/plain": [
       "(<__main__.Node at 0x252bc5f36a0>,\n",
       " <__main__.Node at 0x252bc5f36a0>,\n",
       " 10,\n",
       " None,\n",
       " None)"
      ]
     },
     "execution_count": 3,
     "metadata": {},
     "output_type": "execute_result"
    }
   ],
   "source": [
    "list_one.insert_at_beginning(10)\n",
    "list_one.head, list_one.tail, list_one.head.data, list_one.head.next, list_one.head.prev"
   ]
  },
  {
   "cell_type": "code",
   "execution_count": 4,
   "id": "f2144827-aa9d-4ad5-9393-427fb281b55a",
   "metadata": {},
   "outputs": [
    {
     "data": {
      "text/plain": [
       "(<__main__.Node at 0x252bc5f3d00>,\n",
       " <__main__.Node at 0x252bc5f36a0>,\n",
       " 20,\n",
       " <__main__.Node at 0x252bc5f36a0>,\n",
       " None)"
      ]
     },
     "execution_count": 4,
     "metadata": {},
     "output_type": "execute_result"
    }
   ],
   "source": [
    "list_one.insert_at_beginning(20)\n",
    "list_one.head, list_one.tail, list_one.head.data, list_one.head.next, list_one.head.prev"
   ]
  },
  {
   "cell_type": "code",
   "execution_count": 5,
   "id": "5c2a579d-4752-415d-aed1-bdc7888fb862",
   "metadata": {},
   "outputs": [
    {
     "data": {
      "text/plain": [
       "(<__main__.Node at 0x252bc5f36a0>,\n",
       " None,\n",
       " 10,\n",
       " None,\n",
       " <__main__.Node at 0x252bc5f3d00>)"
      ]
     },
     "execution_count": 5,
     "metadata": {},
     "output_type": "execute_result"
    }
   ],
   "source": [
    "list_one.head.next, list_one.tail.next, list_one.head.next.data, list_one.head.next.next, list_one.head.next.prev"
   ]
  },
  {
   "cell_type": "markdown",
   "id": "ffd0c8ae-ad98-4d58-be5d-dac3002c3399",
   "metadata": {},
   "source": [
    "### **Printing the List**"
   ]
  },
  {
   "cell_type": "code",
   "execution_count": 6,
   "id": "703224d8-2fa6-42a3-90b2-15d91d2a8510",
   "metadata": {},
   "outputs": [],
   "source": [
    "class doublyLinkedList:\n",
    "    def __init__(self, data=None):\n",
    "        self.data = data\n",
    "        self.head = None\n",
    "        self.tail = None\n",
    "\n",
    "    def insert_at_beginning(self, data):\n",
    "        new_node = Node(data)\n",
    "        if self.head is None:\n",
    "            self.head = new_node\n",
    "            self.tail = new_node\n",
    "        else:\n",
    "            new_node.next = self.head\n",
    "            self.head.prev = new_node\n",
    "            self.head = new_node\n",
    "\n",
    "\n",
    "    def print_list_forward(self):\n",
    "        # Check if list is empty\n",
    "        if self.head is None:\n",
    "            print('List is Empty')\n",
    "            return\n",
    "    \n",
    "        current = self.head\n",
    "        # Traverse from head to tail and print each node's data\n",
    "        while current:\n",
    "            print(current.data, end=' ')\n",
    "            current = current.next\n",
    "\n",
    "\n",
    "\n",
    "    def print_list_backward(self):\n",
    "        # Check if list is empty\n",
    "        if self.head is None:\n",
    "            print('List is Empty')\n",
    "            return\n",
    "    \n",
    "        current = self.tail\n",
    "        # Traverse from tail to head and print each node's data\n",
    "        while current:\n",
    "            print(current.data, end=' ')\n",
    "            current = current.prev\n",
    "\n"
   ]
  },
  {
   "cell_type": "code",
   "execution_count": 7,
   "id": "a2605f93-bc64-4c26-9876-e61c557e4241",
   "metadata": {},
   "outputs": [],
   "source": [
    "list_object = doublyLinkedList()\n",
    "for i in range(10, 100, 10):\n",
    "    list_object.insert_at_beginning(i)"
   ]
  },
  {
   "cell_type": "code",
   "execution_count": 8,
   "id": "3f98a249-4722-4fef-82bf-d978b0c3cb4d",
   "metadata": {},
   "outputs": [
    {
     "name": "stdout",
     "output_type": "stream",
     "text": [
      "90 80 70 60 50 40 30 20 10 "
     ]
    }
   ],
   "source": [
    "list_object.print_list_forward()"
   ]
  },
  {
   "cell_type": "code",
   "execution_count": 9,
   "id": "b2190915-2112-439d-8f60-547526661c2f",
   "metadata": {},
   "outputs": [
    {
     "name": "stdout",
     "output_type": "stream",
     "text": [
      "10 20 30 40 50 60 70 80 90 "
     ]
    }
   ],
   "source": [
    "list_object.print_list_backward()"
   ]
  },
  {
   "cell_type": "markdown",
   "id": "30d1f118-9b6e-43ed-aff8-810b9759067d",
   "metadata": {},
   "source": [
    "### **Insertion at the end**"
   ]
  },
  {
   "cell_type": "code",
   "execution_count": 10,
   "id": "d7ff6009-f3bc-43bb-9886-2285c0a140e7",
   "metadata": {},
   "outputs": [],
   "source": [
    "class doublyLinkedList:\n",
    "    def __init__(self, data=None):\n",
    "        self.data = data\n",
    "        self.head = None\n",
    "        self.tail = None\n",
    "\n",
    "    def insert_at_end(self, data):\n",
    "        new_node = Node(data)\n",
    "    \n",
    "        # If list is empty, make new node as head and tail\n",
    "        if self.head is None:\n",
    "            self.head = new_node\n",
    "            self.tail = new_node\n",
    "        else:\n",
    "            # Append node after tail and update tail\n",
    "            new_node.prev = self.tail\n",
    "            self.tail.next = new_node\n",
    "            self.tail = new_node\n",
    "\n",
    "\n",
    "\n",
    "    def print_list_forward(self):\n",
    "        current = self.head\n",
    "        while current:\n",
    "            print(current.data, end = ' ')\n",
    "            current = current.next"
   ]
  },
  {
   "cell_type": "code",
   "execution_count": 11,
   "id": "a26b47ea-4b18-4a56-8762-539189085f4c",
   "metadata": {},
   "outputs": [
    {
     "name": "stdout",
     "output_type": "stream",
     "text": [
      "10 20 30 40 50 60 70 80 90 "
     ]
    }
   ],
   "source": [
    "list_object = doublyLinkedList()\n",
    "for i in range(10, 100, 10):\n",
    "    list_object.insert_at_end(i)\n",
    "\n",
    "list_object.print_list_forward()"
   ]
  },
  {
   "cell_type": "code",
   "execution_count": 12,
   "id": "5ea7068c-2a71-4976-bd3d-e6c94ac9c1f0",
   "metadata": {},
   "outputs": [
    {
     "name": "stdout",
     "output_type": "stream",
     "text": [
      "10 20 30 40 50 60 70 80 90 120 "
     ]
    }
   ],
   "source": [
    "list_object.insert_at_end(120)\n",
    "list_object.print_list_forward()"
   ]
  },
  {
   "cell_type": "markdown",
   "id": "78bfdcc2-c81b-4adb-9866-083968a59318",
   "metadata": {},
   "source": [
    "### **Insert at specific position**"
   ]
  },
  {
   "cell_type": "code",
   "execution_count": 13,
   "id": "a11bad13-a6b6-41f8-9800-d002a4ed6d14",
   "metadata": {},
   "outputs": [],
   "source": [
    "class doublyLinkedListExtended(doublyLinkedList):\n",
    "    def __init__(self, data=None):\n",
    "        super().__init__(data)\n",
    "\n",
    "    \n",
    "    def insert_at_position(self, data, position):\n",
    "        # Negative position is invalid\n",
    "        if position < 0:\n",
    "            print('Position cannot be negative')\n",
    "            return\n",
    "    \n",
    "        new_node = Node(data)\n",
    "    \n",
    "        # If list is empty\n",
    "        if self.head is None:\n",
    "            if position != 0:\n",
    "                print(\"Cannot insert at a non-zero position in an empty list. Inserting at position 0.\")\n",
    "            self.head = new_node\n",
    "            self.tail = new_node\n",
    "            print(f\"Inserted {data} at position {position} (list was empty).\")\n",
    "            return\n",
    "    \n",
    "        # Case: Insert at the beginning\n",
    "        if position == 0:\n",
    "            new_node.next = self.head\n",
    "            self.head.prev = new_node\n",
    "            self.head = new_node\n",
    "            print(f\"Inserted {data} at position {position}.\")\n",
    "            return\n",
    "    \n",
    "        current = self.head\n",
    "        count = 0\n",
    "    \n",
    "        # Traverse to the (position - 1)th node\n",
    "        while current is not None and count < position - 1:\n",
    "            current = current.next\n",
    "            count += 1\n",
    "\n",
    "        # If position is beyond current list length\n",
    "        if current is None:\n",
    "            print(f\"Position {position} is out of bounds. Cannot insert.\")\n",
    "            return\n",
    "    \n",
    "        # Case: Insert at the end of the list\n",
    "        if current.next is None:\n",
    "            current.next = new_node\n",
    "            new_node.prev = current\n",
    "            self.tail = new_node\n",
    "            print(f\"Inserted {data} at position {position} (at end).\")\n",
    "    \n",
    "        # Case: Insert in the middle of the list\n",
    "        else:\n",
    "            new_node.next = current.next\n",
    "            new_node.prev = current\n",
    "            current.next.prev = new_node\n",
    "            current.next = new_node\n",
    "            print(f\"Inserted {data} at position {position}.\")\n"
   ]
  },
  {
   "cell_type": "code",
   "execution_count": 14,
   "id": "d3ba1704-abbe-4fe4-a0f8-4b8b04e21b70",
   "metadata": {},
   "outputs": [
    {
     "name": "stdout",
     "output_type": "stream",
     "text": [
      "10 20 30 40 50 60 70 80 90 "
     ]
    }
   ],
   "source": [
    "list_object = doublyLinkedListExtended()\n",
    "for i in range(10, 100, 10):\n",
    "    list_object.insert_at_end(i)\n",
    "\n",
    "list_object.print_list_forward()"
   ]
  },
  {
   "cell_type": "code",
   "execution_count": 15,
   "id": "53100e10-a05d-4bcc-a666-3bd483a5ae5d",
   "metadata": {},
   "outputs": [
    {
     "name": "stdout",
     "output_type": "stream",
     "text": [
      "Inserted 45 at position 4.\n",
      "10 20 30 40 45 50 60 70 80 90 "
     ]
    }
   ],
   "source": [
    "list_object.insert_at_position(45, 4)\n",
    "list_object.print_list_forward()"
   ]
  },
  {
   "cell_type": "code",
   "execution_count": 16,
   "id": "acd4a039-cd73-4b5b-aeea-9fc47e3ed97b",
   "metadata": {},
   "outputs": [
    {
     "name": "stdout",
     "output_type": "stream",
     "text": [
      "Inserted 95 at position 10 (at end).\n",
      "10 20 30 40 45 50 60 70 80 90 95 "
     ]
    }
   ],
   "source": [
    "list_object.insert_at_position(95, 10)\n",
    "list_object.print_list_forward()"
   ]
  },
  {
   "cell_type": "code",
   "execution_count": 17,
   "id": "578dd246-ebf8-4c79-9c05-595bc03cf656",
   "metadata": {},
   "outputs": [
    {
     "name": "stdout",
     "output_type": "stream",
     "text": [
      "Inserted 5 at position 0.\n",
      "5 10 20 30 40 45 50 60 70 80 90 95 "
     ]
    }
   ],
   "source": [
    "list_object.insert_at_position(5, 0)\n",
    "list_object.print_list_forward()"
   ]
  },
  {
   "cell_type": "markdown",
   "id": "64d11121-b1f2-4420-9cf4-15832f6340d8",
   "metadata": {},
   "source": [
    "### **Calculating Length**"
   ]
  },
  {
   "cell_type": "code",
   "execution_count": 18,
   "id": "fade9100-54d3-4c9c-b85b-cd2292a0ab37",
   "metadata": {},
   "outputs": [],
   "source": [
    "class doublyLinkedListLength(doublyLinkedListExtended):\n",
    "    def __init__(self, data=None):\n",
    "        super().__init__(data)\n",
    "\n",
    "    def length_of_list(self):  # Function to calculate the total number of nodes in the list\n",
    "        current = self.head  # Start traversal from the head node\n",
    "        counter = 0  # Initialize a counter to keep track of the number of nodes\n",
    "        while current:  # Traverse the list until the end (None)\n",
    "            counter += 1  # Increment the counter for each node\n",
    "            current = current.next  # Move to the next node\n",
    "        return counter  # Return the final count"
   ]
  },
  {
   "cell_type": "code",
   "execution_count": 19,
   "id": "4daf59c0-c578-4a41-a9f4-50408c1c3f4e",
   "metadata": {},
   "outputs": [
    {
     "name": "stdout",
     "output_type": "stream",
     "text": [
      "10 20 30 40 50 60 70 80 90 "
     ]
    }
   ],
   "source": [
    "list_object = doublyLinkedListLength()\n",
    "for i in range(10, 100, 10):\n",
    "    list_object.insert_at_end(i)\n",
    "\n",
    "list_object.print_list_forward()"
   ]
  },
  {
   "cell_type": "code",
   "execution_count": 20,
   "id": "3a838dbc-c3a6-43d1-8e24-ed7ecb3febee",
   "metadata": {},
   "outputs": [
    {
     "data": {
      "text/plain": [
       "9"
      ]
     },
     "execution_count": 20,
     "metadata": {},
     "output_type": "execute_result"
    }
   ],
   "source": [
    "list_object.length_of_list()"
   ]
  },
  {
   "cell_type": "markdown",
   "id": "ce8039c2-45f1-445d-ad31-a1cd74f7eed5",
   "metadata": {},
   "source": [
    "### **Insert After a specific value**"
   ]
  },
  {
   "cell_type": "code",
   "execution_count": 21,
   "id": "ba98d51c-90ef-48ee-ba23-6868cf1067b4",
   "metadata": {},
   "outputs": [],
   "source": [
    "class doublyLinkedListFunctions(doublyLinkedListLength):\n",
    "    def __init__(self, data=None):\n",
    "        super().__init__(data)\n",
    "\n",
    "    def insert_after_value(self, present_value, data):\n",
    "        new_node = Node(data)\n",
    "    \n",
    "        # If list is empty, insertion isn't possible\n",
    "        if self.head is None:\n",
    "            print('List is empty. Cannot insert')\n",
    "            return\n",
    "    \n",
    "        current = self.head\n",
    "    \n",
    "        # Traverse the list to find the node with the given value\n",
    "        while current:\n",
    "            if current.data == present_value:\n",
    "                # Case: Insert after the last node\n",
    "                if current.next is None:\n",
    "                    new_node.prev = self.tail\n",
    "                    self.tail.next = new_node\n",
    "                    self.tail = new_node\n",
    "                else:\n",
    "                    # Insert between two nodes\n",
    "                    new_node.next = current.next\n",
    "                    new_node.prev = current\n",
    "                    current.next.prev = new_node\n",
    "                    current.next = new_node\n",
    "    \n",
    "                print('{} is inserted after {}'.format(data, present_value))\n",
    "                return\n",
    "            current = current.next\n",
    "    \n",
    "        # If value not found\n",
    "        print('Passed value of {} is not in List'.format(present_value))\n"
   ]
  },
  {
   "cell_type": "code",
   "execution_count": 22,
   "id": "28264853-4988-4866-b25d-8a7487771bbe",
   "metadata": {},
   "outputs": [
    {
     "name": "stdout",
     "output_type": "stream",
     "text": [
      "10 20 30 40 "
     ]
    }
   ],
   "source": [
    "list_object = doublyLinkedListFunctions()\n",
    "for i in range(10, 50, 10):\n",
    "    list_object.insert_at_end(i)\n",
    "\n",
    "list_object.print_list_forward()"
   ]
  },
  {
   "cell_type": "code",
   "execution_count": 23,
   "id": "1e10281c-8dcc-4dd6-a01a-ef74c3253c1d",
   "metadata": {},
   "outputs": [
    {
     "name": "stdout",
     "output_type": "stream",
     "text": [
      "35 is inserted after 30\n",
      "10 20 30 35 40 "
     ]
    }
   ],
   "source": [
    "list_object.insert_after_value(30, 35)\n",
    "list_object.print_list_forward()"
   ]
  },
  {
   "cell_type": "code",
   "execution_count": 24,
   "id": "5d10ac77-bdc2-4e1d-87d9-0f0526a416d0",
   "metadata": {},
   "outputs": [
    {
     "name": "stdout",
     "output_type": "stream",
     "text": [
      "45 is inserted after 40\n",
      "10 20 30 35 40 45 "
     ]
    }
   ],
   "source": [
    "list_object.insert_after_value(40, 45)\n",
    "list_object.print_list_forward()"
   ]
  },
  {
   "cell_type": "code",
   "execution_count": 25,
   "id": "ef9a69e1-64f6-4bff-b7d2-4bd58721e948",
   "metadata": {},
   "outputs": [
    {
     "name": "stdout",
     "output_type": "stream",
     "text": [
      "Passed value of 0 is not in List\n",
      "10 20 30 35 40 45 "
     ]
    }
   ],
   "source": [
    "list_object.insert_after_value(0, 15)\n",
    "list_object.print_list_forward()"
   ]
  },
  {
   "cell_type": "markdown",
   "id": "674a9a73-0884-4b09-b676-1ddced658f60",
   "metadata": {},
   "source": [
    "### **Insert Before a specific Value**"
   ]
  },
  {
   "cell_type": "code",
   "execution_count": 26,
   "id": "ef4d1fe5-0277-42d0-b71c-8a7519005f73",
   "metadata": {},
   "outputs": [],
   "source": [
    "class doublyLinkedListFunctions(doublyLinkedListLength):\n",
    "    def __init__(self, data=None):\n",
    "        super().__init__(data)\n",
    "\n",
    "    def insert_before_value(self, present_value, data):\n",
    "        new_node = Node(data)\n",
    "    \n",
    "        # If list is empty, insertion before a value isn't possible\n",
    "        if self.head is None:\n",
    "            print('List is empty. Cannot insert')\n",
    "            return\n",
    "    \n",
    "        current = self.head\n",
    "    \n",
    "        # Traverse to find the node that contains the present_value\n",
    "        while current:\n",
    "            if current.data == present_value:\n",
    "                # Case: Insert before the first node\n",
    "                if current.prev is None:\n",
    "                    new_node.next = current\n",
    "                    current.prev = new_node\n",
    "                    self.head = new_node\n",
    "                else:\n",
    "                    # Insert between two nodes\n",
    "                    new_node.prev = current.prev\n",
    "                    new_node.next = current\n",
    "                    current.prev.next = new_node\n",
    "                    current.prev = new_node\n",
    "    \n",
    "                print('{} is inserted before {}'.format(data, present_value))\n",
    "                return\n",
    "            current = current.next\n",
    "    \n",
    "        # If the present_value is not found in the list\n",
    "        print('Passed value of {} is not in List'.format(present_value))\n"
   ]
  },
  {
   "cell_type": "code",
   "execution_count": 27,
   "id": "15973b02-4e70-4d2a-b4fb-b20a3aac6cee",
   "metadata": {},
   "outputs": [
    {
     "name": "stdout",
     "output_type": "stream",
     "text": [
      "10 20 30 40 "
     ]
    }
   ],
   "source": [
    "list_object = doublyLinkedListFunctions()\n",
    "for i in range(10, 50, 10):\n",
    "    list_object.insert_at_end(i)\n",
    "\n",
    "list_object.print_list_forward()"
   ]
  },
  {
   "cell_type": "code",
   "execution_count": 28,
   "id": "39470504-d870-4464-b0fd-052774279ead",
   "metadata": {},
   "outputs": [
    {
     "name": "stdout",
     "output_type": "stream",
     "text": [
      "25 is inserted before 30\n",
      "10 20 25 30 40 "
     ]
    }
   ],
   "source": [
    "list_object.insert_before_value(30, 25)\n",
    "list_object.print_list_forward()"
   ]
  },
  {
   "cell_type": "code",
   "execution_count": 29,
   "id": "4cf82501-2f66-4304-8f26-a13a6659fc9c",
   "metadata": {},
   "outputs": [
    {
     "name": "stdout",
     "output_type": "stream",
     "text": [
      "35 is inserted before 40\n",
      "10 20 25 30 35 40 "
     ]
    }
   ],
   "source": [
    "list_object.insert_before_value(40, 35)\n",
    "list_object.print_list_forward()"
   ]
  },
  {
   "cell_type": "code",
   "execution_count": 30,
   "id": "5fb58d66-0ac8-4927-a722-e67f2ac5f533",
   "metadata": {},
   "outputs": [
    {
     "name": "stdout",
     "output_type": "stream",
     "text": [
      "5 is inserted before 10\n",
      "5 10 20 25 30 35 40 "
     ]
    }
   ],
   "source": [
    "list_object.insert_before_value(10, 5)\n",
    "list_object.print_list_forward()"
   ]
  },
  {
   "cell_type": "code",
   "execution_count": 31,
   "id": "346978e7-9553-4faa-b5b8-dab959224bba",
   "metadata": {},
   "outputs": [
    {
     "name": "stdout",
     "output_type": "stream",
     "text": [
      "Passed value of 100 is not in List\n",
      "5 10 20 25 30 35 40 "
     ]
    }
   ],
   "source": [
    "list_object.insert_before_value(100, 5)\n",
    "list_object.print_list_forward()"
   ]
  },
  {
   "cell_type": "markdown",
   "id": "0328e82a-a83d-4777-a8e4-c1a6836a634b",
   "metadata": {},
   "source": [
    "### **Deletion from beginning of list**"
   ]
  },
  {
   "cell_type": "code",
   "execution_count": 32,
   "id": "54391f2f-dc23-433a-8a7b-271c5d05c20b",
   "metadata": {},
   "outputs": [],
   "source": [
    "class doublyLinkedListFunctions(doublyLinkedListLength):\n",
    "    def __init__(self, data=None):\n",
    "        super().__init__(data)\n",
    "\n",
    "    def delete_from_beginning(self):\n",
    "        # Check if the list is empty\n",
    "        if self.head is None:\n",
    "            print('Empty list')\n",
    "            return\n",
    "    \n",
    "        # If there is only one node in the list, delete it\n",
    "        if self.head.next is None:\n",
    "            self.head = None\n",
    "            print('There is one node in list, which is deleted')\n",
    "            return\n",
    "    \n",
    "        # If there are multiple nodes, remove the first node\n",
    "        current = self.head.next         # Move to the second node\n",
    "        current.prev = None              # Disconnect the first node\n",
    "        self.head = current              # Update head pointer to second node\n"
   ]
  },
  {
   "cell_type": "code",
   "execution_count": 33,
   "id": "3bde925e-54f5-4442-a7a4-81e644a9896e",
   "metadata": {},
   "outputs": [
    {
     "name": "stdout",
     "output_type": "stream",
     "text": [
      "10 20 "
     ]
    }
   ],
   "source": [
    "list_object = doublyLinkedListFunctions()\n",
    "for i in range(10, 30, 10):\n",
    "    list_object.insert_at_end(i)\n",
    "\n",
    "list_object.print_list_forward()"
   ]
  },
  {
   "cell_type": "code",
   "execution_count": 34,
   "id": "a6c0cfbc-7b75-4bd8-9ae9-ee2a3fa45bbd",
   "metadata": {},
   "outputs": [
    {
     "name": "stdout",
     "output_type": "stream",
     "text": [
      "20 "
     ]
    }
   ],
   "source": [
    "list_object.delete_from_beginning()\n",
    "list_object.print_list_forward()"
   ]
  },
  {
   "cell_type": "code",
   "execution_count": 35,
   "id": "13e08a39-a5e9-4e64-ab81-8fe74376f26e",
   "metadata": {},
   "outputs": [
    {
     "name": "stdout",
     "output_type": "stream",
     "text": [
      "There is one node in list, which is deleted\n"
     ]
    }
   ],
   "source": [
    "list_object.delete_from_beginning()\n",
    "list_object.print_list_forward()"
   ]
  },
  {
   "cell_type": "code",
   "execution_count": 36,
   "id": "897fbcfe-95c6-44c6-9f90-727c65bccc64",
   "metadata": {},
   "outputs": [
    {
     "name": "stdout",
     "output_type": "stream",
     "text": [
      "Empty list\n"
     ]
    }
   ],
   "source": [
    "list_object.delete_from_beginning()\n",
    "list_object.print_list_forward()"
   ]
  },
  {
   "cell_type": "markdown",
   "id": "c1eb08ac-0117-4335-ae92-36edc29173a7",
   "metadata": {},
   "source": [
    "### **Deletion from end of list**"
   ]
  },
  {
   "cell_type": "code",
   "execution_count": 37,
   "id": "43938a55-1e7d-463d-a31e-8d5790db7d9b",
   "metadata": {},
   "outputs": [],
   "source": [
    "class doublyLinkedListFunctions(doublyLinkedListLength):\n",
    "    def __init__(self, data=None):\n",
    "        super().__init__(data)\n",
    "\n",
    "    def delete_from_end(self):\n",
    "        # Check if the list is empty\n",
    "        if self.head is None:\n",
    "            print('Empty list')\n",
    "            return\n",
    "    \n",
    "        # If there is only one node in the list, delete it\n",
    "        if self.head.next is None:\n",
    "            self.head = None\n",
    "            print('There is one node in list, which is deleted')\n",
    "            return\n",
    "    \n",
    "        # If there are multiple nodes, remove the last node\n",
    "        current = self.tail.prev         # Move to the second-last node\n",
    "        current.next = None              # Disconnect last node\n",
    "        self.tail = current              # Update tail pointer to new last node\n"
   ]
  },
  {
   "cell_type": "code",
   "execution_count": 38,
   "id": "53a4531f-27a7-4677-a07b-a7494871a2af",
   "metadata": {},
   "outputs": [
    {
     "name": "stdout",
     "output_type": "stream",
     "text": [
      "10 20 "
     ]
    }
   ],
   "source": [
    "list_object = doublyLinkedListFunctions()\n",
    "for i in range(10, 30, 10):\n",
    "    list_object.insert_at_end(i)\n",
    "\n",
    "list_object.print_list_forward()"
   ]
  },
  {
   "cell_type": "code",
   "execution_count": 39,
   "id": "8e16b18b-d099-4d4a-bf68-f44f39ae4f39",
   "metadata": {},
   "outputs": [
    {
     "name": "stdout",
     "output_type": "stream",
     "text": [
      "10 "
     ]
    }
   ],
   "source": [
    "list_object.delete_from_end()\n",
    "list_object.print_list_forward()"
   ]
  },
  {
   "cell_type": "code",
   "execution_count": 40,
   "id": "ecf0b1d8-50f4-4625-8f34-de7e6f8acce5",
   "metadata": {},
   "outputs": [
    {
     "name": "stdout",
     "output_type": "stream",
     "text": [
      "There is one node in list, which is deleted\n"
     ]
    }
   ],
   "source": [
    "list_object.delete_from_end()\n",
    "list_object.print_list_forward()"
   ]
  },
  {
   "cell_type": "markdown",
   "id": "b100c4ec-f930-45e8-abb0-86c325d802ca",
   "metadata": {},
   "source": [
    "### **Delete by value in list**"
   ]
  },
  {
   "cell_type": "code",
   "execution_count": 41,
   "id": "0599cb2a-8cc9-4304-a461-08f6aebff725",
   "metadata": {},
   "outputs": [],
   "source": [
    "class doublyLinkedListFunctions(doublyLinkedListLength):\n",
    "    def __init__(self, data=None):\n",
    "        super().__init__(data)\n",
    "        \n",
    "\n",
    "    def delete_from_end(self):\n",
    "        if self.head is None:\n",
    "            print('Empty list')\n",
    "            return\n",
    "            \n",
    "        if self.head.next is None: # Single Node\n",
    "            self.head = None\n",
    "            print('There is one node in list, which is deleted')\n",
    "            return\n",
    "        \n",
    "        current = self.tail.prev\n",
    "        current.next = None\n",
    "        self.tail = current\n",
    "\n",
    "\n",
    "    def delete_from_beginning(self):\n",
    "        if self.head is None:\n",
    "            print('Empty list')\n",
    "            return\n",
    "            \n",
    "        if self.head.next is None: # Single Node\n",
    "            self.head = None\n",
    "            print('There is one node in list, which is deleted')\n",
    "            return\n",
    "        \n",
    "        current = self.head.next\n",
    "        current.prev = None\n",
    "        self.head = current\n",
    "        \n",
    "\n",
    "    def delete_by_value(self, value):\n",
    "        # Check if the list is empty\n",
    "        if self.head is None:\n",
    "            print('Empty list')\n",
    "            return\n",
    "    \n",
    "        # If only one node and its value matches, delete it\n",
    "        if self.head.next is None and self.head.data == value:\n",
    "            self.head = None\n",
    "            print('{} is deleted'.format(value))\n",
    "            return\n",
    "    \n",
    "        current = self.head\n",
    "        found = False  # Flag to check if value is found\n",
    "    \n",
    "        # Traverse the list to find the node with given value\n",
    "        while current:\n",
    "            if current.data == value:\n",
    "                found = True\n",
    "    \n",
    "                # If value is in the last node\n",
    "                if current.next is None:\n",
    "                    self.delete_from_end()\n",
    "                    return\n",
    "    \n",
    "                # If value is in the first node\n",
    "                elif current.prev is None:\n",
    "                    self.delete_from_beginning()\n",
    "                    return\n",
    "    \n",
    "                # If value is in a middle node\n",
    "                else:\n",
    "                    current.prev.next = current.next\n",
    "                    current.next.prev = current.prev\n",
    "    \n",
    "                print('{} is deleted'.format(value))\n",
    "    \n",
    "            current = current.next\n",
    "    \n",
    "        # If value not found in the list\n",
    "        if not found:\n",
    "            print('Value is not in list')\n",
    "\n",
    "        \n",
    "        "
   ]
  },
  {
   "cell_type": "code",
   "execution_count": 42,
   "id": "aefbf8cd-325d-4df7-9853-23f44c26f9df",
   "metadata": {},
   "outputs": [
    {
     "name": "stdout",
     "output_type": "stream",
     "text": [
      "10 20 30 40 "
     ]
    }
   ],
   "source": [
    "list_object = doublyLinkedListFunctions()\n",
    "for i in range(10, 50, 10):\n",
    "    list_object.insert_at_end(i)\n",
    "\n",
    "list_object.print_list_forward()"
   ]
  },
  {
   "cell_type": "code",
   "execution_count": 43,
   "id": "76b72f96-12ff-461c-8eac-c39c8a73ea2a",
   "metadata": {},
   "outputs": [
    {
     "name": "stdout",
     "output_type": "stream",
     "text": [
      "20 is deleted\n",
      "10 30 40 "
     ]
    }
   ],
   "source": [
    "list_object.delete_by_value(20)\n",
    "list_object.print_list_forward()"
   ]
  },
  {
   "cell_type": "code",
   "execution_count": 44,
   "id": "45686274-8136-43ea-bfa2-2d56f7c9c109",
   "metadata": {},
   "outputs": [
    {
     "name": "stdout",
     "output_type": "stream",
     "text": [
      "30 40 "
     ]
    }
   ],
   "source": [
    "list_object.delete_by_value(10)\n",
    "list_object.print_list_forward()"
   ]
  },
  {
   "cell_type": "code",
   "execution_count": 45,
   "id": "54362e3e-fcb6-487d-88da-1da12815bf71",
   "metadata": {},
   "outputs": [
    {
     "name": "stdout",
     "output_type": "stream",
     "text": [
      "Value is not in list\n",
      "30 40 "
     ]
    }
   ],
   "source": [
    "list_object.delete_by_value(20)\n",
    "list_object.print_list_forward()"
   ]
  },
  {
   "cell_type": "code",
   "execution_count": 46,
   "id": "c218e75f-6025-401c-a1b2-4df6c246a269",
   "metadata": {},
   "outputs": [
    {
     "name": "stdout",
     "output_type": "stream",
     "text": [
      "30 "
     ]
    }
   ],
   "source": [
    "list_object.delete_by_value(40)\n",
    "list_object.print_list_forward()"
   ]
  },
  {
   "cell_type": "markdown",
   "id": "29433a80-c9c9-42d1-abca-ead34c4537a8",
   "metadata": {},
   "source": [
    "### **Delete by position in list**"
   ]
  },
  {
   "cell_type": "code",
   "execution_count": 47,
   "id": "bafb0c63-3def-4c1a-a8a8-081b1b32d295",
   "metadata": {},
   "outputs": [],
   "source": [
    "class doublyLinkedListFunctions(doublyLinkedListLength):\n",
    "    def __init__(self, data=None):\n",
    "        super().__init__(data)\n",
    "\n",
    "    def delete_by_position(self, position):  # Function to delete a node at a given position (0-based index)\n",
    "        if position < 0:  # If position is negative, it's invalid\n",
    "            print('Invalid: Negative position.')\n",
    "            return  # Exit the function\n",
    "\n",
    "        if not self.head:  # If the list is empty\n",
    "            print('Empty list.')\n",
    "            return  # Nothing to delete\n",
    "\n",
    "        if position == 0:  # If deleting the first node (head)\n",
    "            print(f'Deleted: {self.head.data} from position 0')  # Print the value being deleted\n",
    "            self.head = self.head.next  # Move the head to the next node\n",
    "            if self.head:  # If there's still a node left after deletion\n",
    "                self.head.prev = None  # Set the new head's prev to None\n",
    "            else:\n",
    "                self.tail = None  # If the list is now empty, also reset the tail\n",
    "            return  # Exit the function\n",
    "\n",
    "        current = self.head  # Start from the head of the list\n",
    "        index = 0  # Initialize index counter\n",
    "\n",
    "        while current and index < position:  # Traverse until we reach the target position\n",
    "            current = current.next  # Move to the next node\n",
    "            index += 1  # Increment the index\n",
    "\n",
    "        if not current:  # If we reached the end and didn't find the position\n",
    "            print('Position out of bounds.')  # Print error message\n",
    "            return  # Exit the function\n",
    "\n",
    "        print(f'Deleted: {current.data} from position {position}')  # Print the value being deleted\n",
    "\n",
    "        if current.next:  # If the node to delete is not the last node\n",
    "            current.next.prev = current.prev  # Link the next node's prev to the current's prev\n",
    "        else:\n",
    "            self.tail = current.prev  # If deleting the last node, update the tail pointer\n",
    "\n",
    "        if current.prev:  # If the node to delete is not the first node\n",
    "            current.prev.next = current.next  # Link the previous node's next to the current's next\n",
    "\n",
    "\n"
   ]
  },
  {
   "cell_type": "code",
   "execution_count": 48,
   "id": "db50b40f-92da-4c03-8a35-02738592b3a5",
   "metadata": {},
   "outputs": [
    {
     "name": "stdout",
     "output_type": "stream",
     "text": [
      "10 20 30 40 50 "
     ]
    }
   ],
   "source": [
    "list_object = doublyLinkedListFunctions()\n",
    "for i in range(10, 60, 10):\n",
    "    list_object.insert_at_end(i)\n",
    "\n",
    "list_object.print_list_forward()"
   ]
  },
  {
   "cell_type": "code",
   "execution_count": 49,
   "id": "cbd082b4-0c22-42c9-909f-f560cf103890",
   "metadata": {},
   "outputs": [
    {
     "name": "stdout",
     "output_type": "stream",
     "text": [
      "Deleted: 30 from position 2\n",
      "10 20 40 50 "
     ]
    }
   ],
   "source": [
    "list_object.delete_by_position(2)\n",
    "list_object.print_list_forward()"
   ]
  },
  {
   "cell_type": "code",
   "execution_count": 50,
   "id": "af01947b-b3c2-410e-b5a7-40d061b7ab53",
   "metadata": {},
   "outputs": [
    {
     "name": "stdout",
     "output_type": "stream",
     "text": [
      "Deleted: 40 from position 2\n",
      "10 20 50 "
     ]
    }
   ],
   "source": [
    "list_object.delete_by_position(2)\n",
    "list_object.print_list_forward()"
   ]
  },
  {
   "cell_type": "code",
   "execution_count": 51,
   "id": "8b4310e7-c574-4527-85aa-d51393357cd0",
   "metadata": {},
   "outputs": [
    {
     "name": "stdout",
     "output_type": "stream",
     "text": [
      "Deleted: 10 from position 0\n",
      "20 50 "
     ]
    }
   ],
   "source": [
    "list_object.delete_by_position(0)\n",
    "list_object.print_list_forward()"
   ]
  },
  {
   "cell_type": "code",
   "execution_count": 52,
   "id": "ca92eb24-b2ba-4d22-bd53-8a7f31db9bed",
   "metadata": {},
   "outputs": [
    {
     "name": "stdout",
     "output_type": "stream",
     "text": [
      "Deleted: 50 from position 1\n",
      "20 "
     ]
    }
   ],
   "source": [
    "list_object.delete_by_position(1)\n",
    "list_object.print_list_forward()"
   ]
  },
  {
   "cell_type": "code",
   "execution_count": 53,
   "id": "eab5db5f-9f2d-479e-a642-e2e317b7d82f",
   "metadata": {},
   "outputs": [
    {
     "name": "stdout",
     "output_type": "stream",
     "text": [
      "Deleted: 20 from position 0\n"
     ]
    }
   ],
   "source": [
    "list_object.delete_by_position(0)\n",
    "list_object.print_list_forward()"
   ]
  },
  {
   "cell_type": "markdown",
   "id": "fe006f2e-0b9e-4a88-8cbc-26d02489f477",
   "metadata": {},
   "source": [
    "### **Search**"
   ]
  },
  {
   "cell_type": "code",
   "execution_count": 54,
   "id": "baa5e573-c8bd-41e4-ad39-07a39a8cffa8",
   "metadata": {},
   "outputs": [
    {
     "name": "stdout",
     "output_type": "stream",
     "text": [
      "10 20 30 40 50 "
     ]
    }
   ],
   "source": [
    "class doublyLinkedListFunctions(doublyLinkedListLength):\n",
    "    def __init__(self, data=None):\n",
    "        super().__init__(data)\n",
    "\n",
    "    def search(self, value):  # Function to search for a specific value in the list\n",
    "        current = self.head  # Start traversal from the head of the list\n",
    "        index = 0  # Initialize index counter to track position\n",
    "\n",
    "        while current:  # Traverse the list until the end (current becomes None)\n",
    "            if current.data == value:  # If the current node's data matches the value\n",
    "                print(f'Value {value} found at position {index}')  # Print the found position\n",
    "                return index  # Return the index where the value is found\n",
    "            current = current.next  # Move to the next node\n",
    "            index += 1  # Increment the index counter\n",
    "\n",
    "        print(f'Value {value} not found in the list')  # If loop completes without finding the value\n",
    "        return -1  # Return -1 to indicate value was not found\n",
    "\n",
    "\n",
    "list_object = doublyLinkedListFunctions()\n",
    "for i in range(10, 60, 10):\n",
    "    list_object.insert_at_end(i)\n",
    "\n",
    "list_object.print_list_forward()"
   ]
  },
  {
   "cell_type": "code",
   "execution_count": 55,
   "id": "e759bb59-fc5a-4a3c-b366-6d53000dbfd6",
   "metadata": {},
   "outputs": [
    {
     "name": "stdout",
     "output_type": "stream",
     "text": [
      "Value 30 found at position 2\n"
     ]
    },
    {
     "data": {
      "text/plain": [
       "2"
      ]
     },
     "execution_count": 55,
     "metadata": {},
     "output_type": "execute_result"
    }
   ],
   "source": [
    "list_object.search(30)"
   ]
  },
  {
   "cell_type": "markdown",
   "id": "26f11131-885f-475b-90c6-0fad9f1984af",
   "metadata": {},
   "source": [
    "### **Reversal**"
   ]
  },
  {
   "cell_type": "code",
   "execution_count": 56,
   "id": "c81199b1-3619-46db-b44a-2dd2404abbe2",
   "metadata": {},
   "outputs": [
    {
     "name": "stdout",
     "output_type": "stream",
     "text": [
      "10 20 30 40 50 "
     ]
    }
   ],
   "source": [
    "class doublyLinkedListFunctions(doublyLinkedListLength):\n",
    "    def __init__(self, data=None):\n",
    "        super().__init__(data)\n",
    "\n",
    "    def reverse(self):  # Function to reverse the entire doubly linked list\n",
    "        current = self.head  # Start from the head node\n",
    "        prev_node = None  # Initialize a variable to keep track of the previous node\n",
    "\n",
    "        while current:  # Traverse the list until the end\n",
    "            # Swap the prev and next pointers of the current node\n",
    "            prev_node = current.prev  # Temporarily store the current's prev\n",
    "            current.prev = current.next  # Assign current's next to prev\n",
    "            current.next = prev_node  # Assign the stored prev to current's next\n",
    "\n",
    "            current = current.prev  # Move to the next node (which is current.prev due to the swap)\n",
    "\n",
    "        if prev_node:  # If the list was not empty\n",
    "            self.head = prev_node.prev  # Update the head to the new front node (previously tail)\n",
    "\n",
    "        print(\"List reversed\")  # Indicate completion\n",
    "\n",
    "list_object = doublyLinkedListFunctions()\n",
    "for i in range(10, 60, 10):\n",
    "    list_object.insert_at_end(i)\n",
    "\n",
    "list_object.print_list_forward()"
   ]
  },
  {
   "cell_type": "code",
   "execution_count": 57,
   "id": "e5e28969-5e75-4359-9649-58d0d5f3eb63",
   "metadata": {},
   "outputs": [
    {
     "name": "stdout",
     "output_type": "stream",
     "text": [
      "List reversed\n",
      "50 40 30 20 10 "
     ]
    }
   ],
   "source": [
    "list_object.reverse()\n",
    "list_object.print_list_forward()"
   ]
  },
  {
   "cell_type": "markdown",
   "id": "b592083a-779e-4668-8bbf-81a5fbb2cadb",
   "metadata": {},
   "source": [
    "### **Middle element access**"
   ]
  },
  {
   "cell_type": "code",
   "execution_count": 58,
   "id": "5eae0c31-7335-4c08-b1ea-e46860066c3a",
   "metadata": {},
   "outputs": [
    {
     "name": "stdout",
     "output_type": "stream",
     "text": [
      "10 20 30 40 50 "
     ]
    }
   ],
   "source": [
    "class doublyLinkedListFunctions(doublyLinkedListLength):\n",
    "    def __init__(self, data=None):\n",
    "        super().__init__(data)\n",
    "\n",
    "    def get_middle(self):  # Function to get the middle element of the doubly linked list\n",
    "        if self.head is None:  # If the list is empty\n",
    "            print(\"List is empty\")  # Inform the user\n",
    "            return  # Exit the function\n",
    "\n",
    "        slow = self.head  # Initialize a slow pointer starting at head\n",
    "        fast = self.head  # Initialize a fast pointer starting at head\n",
    "\n",
    "        # Move fast by 2 steps and slow by 1 step until fast reaches the end\n",
    "        while fast and fast.next:\n",
    "            slow = slow.next  # Move slow by one node\n",
    "            fast = fast.next.next  # Move fast by two nodes\n",
    "\n",
    "        print(f\"Middle element is: {slow.data}\")  # The slow pointer is now at the middle node\n",
    "\n",
    "\n",
    "list_object = doublyLinkedListFunctions()\n",
    "for i in range(10, 60, 10):\n",
    "    list_object.insert_at_end(i)\n",
    "\n",
    "list_object.print_list_forward()"
   ]
  },
  {
   "cell_type": "code",
   "execution_count": 59,
   "id": "e0729f08-b700-4e30-b01f-23936e6ef6e3",
   "metadata": {},
   "outputs": [
    {
     "name": "stdout",
     "output_type": "stream",
     "text": [
      "Middle element is: 30\n"
     ]
    }
   ],
   "source": [
    "list_object.get_middle()"
   ]
  },
  {
   "cell_type": "markdown",
   "id": "df4ba131-7df3-4a8e-a29e-24641a1bbc20",
   "metadata": {},
   "source": [
    "### **Loop Detection**"
   ]
  },
  {
   "cell_type": "code",
   "execution_count": 60,
   "id": "6d0380d1-201c-4e21-9959-1ca98e73d5f5",
   "metadata": {},
   "outputs": [
    {
     "name": "stdout",
     "output_type": "stream",
     "text": [
      "10 20 30 40 50 "
     ]
    }
   ],
   "source": [
    "class doublyLinkedListFunctions(doublyLinkedListLength):\n",
    "    def __init__(self, data=None):\n",
    "        super().__init__(data)\n",
    "\n",
    "    def detect_loop(self):  # Function to detect if a loop exists in the doubly linked list\n",
    "        slow = self.head  # Initialize a slow pointer at the head\n",
    "        fast = self.head  # Initialize a fast pointer at the head\n",
    "\n",
    "        while fast and fast.next:  # Continue while fast can move two steps ahead\n",
    "            slow = slow.next  # Move slow pointer by one step\n",
    "            fast = fast.next.next  # Move fast pointer by two steps\n",
    "\n",
    "            if slow == fast:  # If both pointers meet, a loop exists\n",
    "                print(\"Loop detected\")  # Inform user\n",
    "                return True  # Return True indicating presence of loop\n",
    "\n",
    "        print(\"No loop detected\")  # If traversal ends normally, no loop exists\n",
    "        return False  # Return False indicating absence of loop\n",
    "\n",
    "\n",
    "\n",
    "list_object = doublyLinkedListFunctions()\n",
    "for i in range(10, 60, 10):\n",
    "    list_object.insert_at_end(i)\n",
    "\n",
    "list_object.print_list_forward()"
   ]
  },
  {
   "cell_type": "code",
   "execution_count": 61,
   "id": "f3221090-1b5f-45d8-8df4-5f33af0b2c9c",
   "metadata": {},
   "outputs": [
    {
     "name": "stdout",
     "output_type": "stream",
     "text": [
      "No loop detected\n"
     ]
    },
    {
     "data": {
      "text/plain": [
       "False"
      ]
     },
     "execution_count": 61,
     "metadata": {},
     "output_type": "execute_result"
    }
   ],
   "source": [
    "list_object.detect_loop()"
   ]
  },
  {
   "cell_type": "code",
   "execution_count": 62,
   "id": "c617ca96-9ce0-41b0-a741-25d4f6324c17",
   "metadata": {},
   "outputs": [],
   "source": [
    "list_object.tail.next = list_object.head.next"
   ]
  },
  {
   "cell_type": "code",
   "execution_count": 63,
   "id": "eee09dbd-cf14-4cd2-bc33-7a3b5d5b35f4",
   "metadata": {},
   "outputs": [
    {
     "name": "stdout",
     "output_type": "stream",
     "text": [
      "Loop detected\n"
     ]
    },
    {
     "data": {
      "text/plain": [
       "True"
      ]
     },
     "execution_count": 63,
     "metadata": {},
     "output_type": "execute_result"
    }
   ],
   "source": [
    "list_object.detect_loop()"
   ]
  },
  {
   "cell_type": "markdown",
   "id": "fe7fb751-c9e4-4f66-b219-7418a29cd325",
   "metadata": {},
   "source": [
    "### **Swap values**"
   ]
  },
  {
   "cell_type": "code",
   "execution_count": 64,
   "id": "2104e11e-42f6-491d-8386-b5c8043e3482",
   "metadata": {},
   "outputs": [
    {
     "name": "stdout",
     "output_type": "stream",
     "text": [
      "10 20 30 40 50 "
     ]
    }
   ],
   "source": [
    "class doublyLinkedListFunctions(doublyLinkedListLength):\n",
    "    def __init__(self, data=None):\n",
    "        super().__init__(data)\n",
    "\n",
    "\n",
    "    def swap_values(self, val1, val2):  # Function to swap two node values in the list\n",
    "        if val1 == val2:  # If both values are same, no need to swap\n",
    "            print(\"Both values are the same. No swap needed.\")\n",
    "            return\n",
    "\n",
    "        node1 = node2 = None  # Initialize placeholders for both nodes\n",
    "        current = self.head  # Start traversal from the head\n",
    "\n",
    "        while current:  # Traverse until end of list\n",
    "            if current.data == val1:\n",
    "                node1 = current  # Store reference to the first matching node\n",
    "            elif current.data == val2:\n",
    "                node2 = current  # Store reference to the second matching node\n",
    "            current = current.next  # Move to the next node\n",
    "\n",
    "        if node1 and node2:  # If both nodes are found\n",
    "            node1.data, node2.data = node2.data, node1.data  # Swap their data\n",
    "            print(f\"Swapped values: {val1} and {val2}\")  # Confirm swap\n",
    "        else:\n",
    "            print(\"One or both values not found in the list\")  # If any value missing\n",
    "\n",
    "\n",
    "list_object = doublyLinkedListFunctions()\n",
    "for i in range(10, 60, 10):\n",
    "    list_object.insert_at_end(i)\n",
    "\n",
    "list_object.print_list_forward()"
   ]
  },
  {
   "cell_type": "code",
   "execution_count": 65,
   "id": "6df670d2-63df-469e-a26e-84e5d9e04bad",
   "metadata": {},
   "outputs": [
    {
     "name": "stdout",
     "output_type": "stream",
     "text": [
      "Swapped values: 20 and 40\n",
      "10 40 30 20 50 "
     ]
    }
   ],
   "source": [
    "list_object.swap_values(20, 40)\n",
    "list_object.print_list_forward()"
   ]
  },
  {
   "cell_type": "markdown",
   "id": "2c5ecd73-6c46-4c7e-a639-a1138e8094ae",
   "metadata": {},
   "source": [
    "### **Get Nth Last Node**"
   ]
  },
  {
   "cell_type": "code",
   "execution_count": 66,
   "id": "42138f3e-bddf-4334-8e51-b0b6b7f6317a",
   "metadata": {},
   "outputs": [
    {
     "name": "stdout",
     "output_type": "stream",
     "text": [
      "10 13 16 19 22 25 28 31 34 37 40 43 46 49 52 55 58 "
     ]
    }
   ],
   "source": [
    "class doublyLinkedListFunctions(doublyLinkedListLength):\n",
    "    def __init__(self, data=None):\n",
    "        super().__init__(data)\n",
    "\n",
    "    def length_of_list(self):  # Function to calculate the total number of nodes in the list\n",
    "        current = self.head  # Start traversal from the head node\n",
    "        counter = 0  # Initialize a counter to keep track of the number of nodes\n",
    "        while current:  # Traverse the list until the end (None)\n",
    "            counter += 1  # Increment the counter for each node\n",
    "            current = current.next  # Move to the next node\n",
    "        return counter  # Return the final count\n",
    "\n",
    "    def get_nth_last_node(self, n):  # Function to get the n-th last node value\n",
    "        total_length = self.length_of_list()  # First, calculate total number of nodes\n",
    "\n",
    "        if n <= 0 or n > total_length:  # Check if n is valid\n",
    "            print(\"Invalid position: out of bounds\")  # Inform about error\n",
    "            return\n",
    "\n",
    "        target_index = total_length - n  # Calculate index from beginning (0-based)\n",
    "        current = self.head  # Start traversal from the head\n",
    "\n",
    "        for _ in range(target_index):  # Move to the target node\n",
    "            current = current.next\n",
    "\n",
    "        print(f\"{n}-th last node is: {current.data}\")  # Display the found node’s data\n",
    "\n",
    "\n",
    "\n",
    "list_object = doublyLinkedListFunctions()\n",
    "for i in range(10, 60, 3):\n",
    "    list_object.insert_at_end(i)\n",
    "\n",
    "list_object.print_list_forward()"
   ]
  },
  {
   "cell_type": "code",
   "execution_count": 67,
   "id": "125fe945-06ee-4220-a975-dcf721413d88",
   "metadata": {},
   "outputs": [
    {
     "name": "stdout",
     "output_type": "stream",
     "text": [
      "3-th last node is: 52\n"
     ]
    }
   ],
   "source": [
    "list_object.get_nth_last_node(3)"
   ]
  },
  {
   "cell_type": "markdown",
   "id": "d9edd5f2-f3ec-4dec-8286-2d98d79b9948",
   "metadata": {},
   "source": [
    "### **Space and Time Complexity Table**\n",
    "\n",
    "Each node in a DLL has:\n",
    "\n",
    "* `data` → O(1)\n",
    "* `next` → pointer to next node\n",
    "* `prev` → pointer to previous node\n",
    "\n",
    "So the space overhead is:\n",
    "\n",
    "```\n",
    "O(1) per node (for pointers) → O(n) overall for n nodes\n",
    "```\n",
    "\n",
    "This is more than a singly linked list (`O(n)` for `next` only).\n",
    "\n",
    "---\n",
    "\n",
    "\n",
    "| Category  | Operation                  | Time Complexity | Space Complexity |\n",
    "| --------- | -------------------------- | --------------- | ---------------- |\n",
    "| Insertion | Beginning                  | O(1)            | O(1)             |\n",
    "|           | End                        | O(n)            | O(1)             |\n",
    "|           | At Position                | O(n)            | O(1)             |\n",
    "|           | After/Before Value         | O(n)            | O(1)             |\n",
    "| Deletion  | Beginning                  | O(1)            | O(1)             |\n",
    "|           | End                        | O(n)            | O(1)             |\n",
    "|           | By Value / Position        | O(n)            | O(1)             |\n",
    "| Search    | Search                     | O(n)            | O(1)             |\n",
    "| Utility   | Length / Middle / Nth Last | O(n)            | O(1)             |\n",
    "|           | Reversal                   | O(n)            | O(1)             |\n",
    "|           | Swap                       | O(n)            | O(1)             |\n",
    "|           | Detect Loop                | O(n)            | O(1)             |\n",
    "\n"
   ]
  },
  {
   "cell_type": "code",
   "execution_count": null,
   "id": "b0d50ae9-480c-4df2-89c8-8d827b472d8a",
   "metadata": {},
   "outputs": [],
   "source": []
  }
 ],
 "metadata": {
  "kernelspec": {
   "display_name": "Python 3 (ipykernel)",
   "language": "python",
   "name": "python3"
  },
  "language_info": {
   "codemirror_mode": {
    "name": "ipython",
    "version": 3
   },
   "file_extension": ".py",
   "mimetype": "text/x-python",
   "name": "python",
   "nbconvert_exporter": "python",
   "pygments_lexer": "ipython3",
   "version": "3.10.8"
  }
 },
 "nbformat": 4,
 "nbformat_minor": 5
}
